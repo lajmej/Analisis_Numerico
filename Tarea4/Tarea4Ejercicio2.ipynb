{
  "nbformat": 4,
  "nbformat_minor": 0,
  "metadata": {
    "colab": {
      "provenance": [],
      "authorship_tag": "ABX9TyOc+0DSIFSg/sXqXafMtDQw",
      "include_colab_link": true
    },
    "kernelspec": {
      "name": "python3",
      "display_name": "Python 3"
    },
    "language_info": {
      "name": "python"
    }
  },
  "cells": [
    {
      "cell_type": "markdown",
      "metadata": {
        "id": "view-in-github",
        "colab_type": "text"
      },
      "source": [
        "<a href=\"https://colab.research.google.com/github/lajmej/Analisis_Numerico/blob/main/Tarea4/Tarea4Ejercicio14.ipynb\" target=\"_parent\"><img src=\"https://colab.research.google.com/assets/colab-badge.svg\" alt=\"Open In Colab\"/></a>"
      ]
    },
    {
      "cell_type": "code",
      "execution_count": null,
      "metadata": {
        "colab": {
          "base_uri": "https://localhost:8080/"
        },
        "id": "DzoQiWDidaVY",
        "outputId": "7e61986c-1854-4dc2-8179-3e4ffe0fd4fb"
      },
      "outputs": [
        {
          "output_type": "stream",
          "name": "stdout",
          "text": [
            "Solución encontrada en 18 iteraciones.\n",
            "La solución es: [  0.95813186 -12.89491933]\n"
          ]
        }
      ],
      "source": [
        "#Resolver el sistema de ecuaciones:\n",
        "import math\n",
        "import numpy as np\n",
        "\n",
        "def f(x):\n",
        "    # Define las funciones del sistema de ecuaciones\n",
        "    f1 = x[0]+(0.27/x[0])-1.31*math.cos(x[1])\n",
        "    f2 = (-0.405/x[0])-1.31*math.sin(x[1])\n",
        "    return np.array([f1, f2])\n",
        "\n",
        "def jacobian(x):\n",
        "    # Calcula la matriz jacobiana del sistema de ecuaciones\n",
        "    J = np.array([[1-(0.27/(x[0]**2)), 1.31*math.sin(x[1])],\n",
        "                  [(-0.405/(x[0]**2)), -1.31*math.cos(x[1])]])\n",
        "    return J\n",
        "\n",
        "def newton_system(f, jacobian, x0, tol=1e-6, max_iter=1000):\n",
        "    # Implementa el método de Newton para sistemas de ecuaciones\n",
        "    x = x0\n",
        "    for i in range(max_iter):\n",
        "        dx = np.linalg.solve(jacobian(x), f(x))\n",
        "        x = x - dx\n",
        "        if np.linalg.norm(dx) < tol:\n",
        "            print(f'Solución encontrada en {i+1} iteraciones.')\n",
        "            return x\n",
        "    print(\"No se encontró la solución después de\", max_iter, \"iteraciones.\")\n",
        "    return None\n",
        "\n",
        "# Punto inicial\n",
        "x0 = np.array([1.0, 1.0])\n",
        "\n",
        "# Resuelve el sistema de ecuaciones\n",
        "sol = newton_system(f, jacobian, x0)\n",
        "if sol is not None:\n",
        "    print(\"La solución es:\", sol)"
      ]
    }
  ]
}
