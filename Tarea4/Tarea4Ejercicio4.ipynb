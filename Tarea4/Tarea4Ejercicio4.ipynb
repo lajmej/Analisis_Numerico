{
  "nbformat": 4,
  "nbformat_minor": 0,
  "metadata": {
    "colab": {
      "provenance": [],
      "authorship_tag": "ABX9TyM0USiIUN+rfngFhXufcg3o",
      "include_colab_link": true
    },
    "kernelspec": {
      "name": "python3",
      "display_name": "Python 3"
    },
    "language_info": {
      "name": "python"
    }
  },
  "cells": [
    {
      "cell_type": "markdown",
      "metadata": {
        "id": "view-in-github",
        "colab_type": "text"
      },
      "source": [
        "<a href=\"https://colab.research.google.com/github/lajmej/Analisis_Numerico/blob/main/Tarea4/Tarea4Ejercicio4.ipynb\" target=\"_parent\"><img src=\"https://colab.research.google.com/assets/colab-badge.svg\" alt=\"Open In Colab\"/></a>"
      ]
    },
    {
      "cell_type": "markdown",
      "source": [
        "# Ejercicio 4\n",
        "**Integrantes**\n",
        "\n",
        "*   De la Luz Cristobal\n",
        "*   Mejia Quinarez Luis Eduardo\n",
        "\n"
      ],
      "metadata": {
        "id": "WUNttQYu6acb"
      }
    },
    {
      "cell_type": "markdown",
      "source": [
        "4.   **Hallar una aproximación a $\\sqrt3$ con una tolerancia de $10^{-4}$ usando el algoritmo de Bisección. [Hint: considerar $f(x)=x^{2}-3$.]**"
      ],
      "metadata": {
        "id": "EXSGlaBD6ckF"
      }
    },
    {
      "cell_type": "code",
      "source": [
        "import math\n",
        "#definimos la función\n",
        "def f(x):\n",
        "\treturn x**2 -3\n",
        "#definimos los puntos para inicio del algoritmo\n",
        "a=1.0\n",
        "b=2.0\n",
        "#definimos la variable para la distancia entre ambos puntos\n",
        "c=abs(b-a)\n",
        "#definimos un contador para contar el numero de iteraciones\n",
        "contador=0\n",
        "#Definimos en bucle para iterar sobre el algoritmo\n",
        "while(c>(10**-4)):\n",
        "  m=a+(b-a)/2\n",
        "\n",
        "  if((f(a)*f(m))<0):\n",
        "\t  b=m\n",
        "  else:\n",
        "\t  a=m\n",
        "\n",
        "  contador+=1\n",
        "  c=abs(b-a)\n",
        "\n",
        "print(\"a: \" + str(a))\n",
        "print(\"b: \"+ str(b))"
      ],
      "metadata": {
        "colab": {
          "base_uri": "https://localhost:8080/"
        },
        "id": "efFpr1c47Ozc",
        "outputId": "70bcd824-8f57-4f89-9ac9-32bef2e842d1"
      },
      "execution_count": 24,
      "outputs": [
        {
          "output_type": "stream",
          "name": "stdout",
          "text": [
            "a: 1.73199462890625\n",
            "b: 1.7320556640625\n"
          ]
        }
      ]
    }
  ]
}