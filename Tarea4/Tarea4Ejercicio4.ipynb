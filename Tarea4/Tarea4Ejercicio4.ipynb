{
  "nbformat": 4,
  "nbformat_minor": 0,
  "metadata": {
    "colab": {
      "provenance": [],
      "authorship_tag": "ABX9TyPHJKhRKwa08YKQrO2Iz5up",
      "include_colab_link": true
    },
    "kernelspec": {
      "name": "python3",
      "display_name": "Python 3"
    },
    "language_info": {
      "name": "python"
    }
  },
  "cells": [
    {
      "cell_type": "markdown",
      "metadata": {
        "id": "view-in-github",
        "colab_type": "text"
      },
      "source": [
        "<a href=\"https://colab.research.google.com/github/lajmej/Analisis_Numerico/blob/main/Tarea4/Tarea4Ejercicio4.ipynb\" target=\"_parent\"><img src=\"https://colab.research.google.com/assets/colab-badge.svg\" alt=\"Open In Colab\"/></a>"
      ]
    },
    {
      "cell_type": "markdown",
      "source": [
        "# Ejercicio 4\n",
        "**Integrantes**\n",
        "\n",
        "*   De la Luz Cristobal\n",
        "*   Mejia Quinarez Luis Eduardo\n",
        "\n"
      ],
      "metadata": {
        "id": "WUNttQYu6acb"
      }
    },
    {
      "cell_type": "markdown",
      "source": [
        "4.   **Hallar una aproximación a $\\sqrt3$ con una tolerancia de $10^{-4}$ usando el algoritmo de Bisección. [Hint: considerar $f(x)=x^{2}-3$.]**"
      ],
      "metadata": {
        "id": "EXSGlaBD6ckF"
      }
    },
    {
      "cell_type": "markdown",
      "source": [
        "# **b) Nuestra propia implementación**"
      ],
      "metadata": {
        "id": "8ORB5b1rOwnX"
      }
    },
    {
      "cell_type": "code",
      "source": [
        "import math\n",
        "#definimos la función\n",
        "def f(x):\n",
        "\treturn x**2 -3\n",
        "#definimos los puntos para inicio del algoritmo\n",
        "a=1.0\n",
        "b=2.0\n",
        "#definimos la variable para la distancia entre ambos puntos\n",
        "c=abs(b-a)\n",
        "#definimos un contador para contar el numero de iteraciones\n",
        "contador=0\n",
        "#Definimos en bucle para iterar sobre el algoritmo\n",
        "while(c>(10**-4)):\n",
        "  m=a+(b-a)/2\n",
        "\n",
        "  if((f(a)*f(m))<0):\n",
        "\t  b=m\n",
        "  else:\n",
        "\t  a=m\n",
        "\n",
        "  contador+=1\n",
        "  c=abs(b-a)\n",
        "\n",
        "print(\"a: \" + str(a))\n",
        "print(\"b: \"+ str(b))"
      ],
      "metadata": {
        "colab": {
          "base_uri": "https://localhost:8080/"
        },
        "id": "efFpr1c47Ozc",
        "outputId": "70bcd824-8f57-4f89-9ac9-32bef2e842d1"
      },
      "execution_count": null,
      "outputs": [
        {
          "output_type": "stream",
          "name": "stdout",
          "text": [
            "a: 1.73199462890625\n",
            "b: 1.7320556640625\n"
          ]
        }
      ]
    },
    {
      "cell_type": "markdown",
      "source": [
        "# **b)Implementacion profesor**"
      ],
      "metadata": {
        "id": "ktYZcxJWO4c5"
      }
    },
    {
      "cell_type": "code",
      "source": [
        "def Biseccion(Tol,N,f,a,b):\n",
        "  #N es el numero de iteraciones\n",
        "  # Tol es la tolerancia\n",
        "  # f es la función a la cual se le quiere\n",
        "  # obtener las raíces\n",
        "  # a es el extremo izquierdo del intervalo\n",
        "  # b es el extremo derecho del intervalo\n",
        "\n",
        "  fa,fb=f(a),f(b)\n",
        "  if fa*fb>0.0:\n",
        "    print(\"No tiene raíces en el intervalo\")\n",
        "\n",
        "  x0=0.0\n",
        "  Iter=0\n",
        "  while Iter<=N:\n",
        "    x1=(a+b)/2.0\n",
        "    fx1=f(x1)\n",
        "    if abs(fx1)<=Tol and abs(x1-x0)<=Tol:\n",
        "      print(\"Tu raiz es \"+str(x1))\n",
        "      return x1\n",
        "\n",
        "    if fa*fx1<0:\n",
        "      b=x1\n",
        "    if fx1*fb<0:\n",
        "      a=x1\n",
        "\n",
        "    x0=x1\n",
        "    Iter+=1\n",
        "\n",
        "  else:\n",
        "    print(\"El valor aproximado de tu raiz es\"+str(x1))"
      ],
      "metadata": {
        "id": "NXYiRqBePCHo"
      },
      "execution_count": null,
      "outputs": []
    },
    {
      "cell_type": "code",
      "source": [
        "f=lambda x: x**2 -3\n",
        "r=Biseccion(1E-4,100,f,1.0,2.0)"
      ],
      "metadata": {
        "id": "qfxpVl0NPT48",
        "outputId": "64900453-3de8-4e79-e028-ffed0daa837b",
        "colab": {
          "base_uri": "https://localhost:8080/"
        }
      },
      "execution_count": null,
      "outputs": [
        {
          "output_type": "stream",
          "name": "stdout",
          "text": [
            "Tu raiz es 1.732025146484375\n"
          ]
        }
      ]
    },
    {
      "cell_type": "markdown",
      "source": [
        "# **a) Escribir las primeras 5 iteraciones**"
      ],
      "metadata": {
        "id": "LVJUn38fPs3h"
      }
    },
    {
      "cell_type": "markdown",
      "source": [
        "\n",
        "\n",
        "*   **Tolerancia=** *$\\frac{1}{10000}$*\n",
        "*   **Número de iteraciones=** *$100$*\n",
        "*   **$f(x)=x^{2} -3$**\n",
        "*   **a=1**\n",
        "*   **b=2**\n",
        "\n",
        "*Primera iteración: iteracion=1*\n",
        "\n",
        "**$x_{0}$=0**\n",
        "\n",
        "---\n",
        "\n",
        "\n",
        "**Mientras $iteracion=1 \\leq 100$:**\n",
        "\n",
        "**$m=a+\\frac{b-a}{2}=1+\\frac{2-1}{2}=1.5$**\n",
        "\n",
        "**$x_{1}=m=1.5$**\n",
        "\n",
        "**Si $|f(m)|=0.75\\leq \\frac{1}{1000}$ y $|x_{1}-x_{0}|=1.5\\leq \\frac{1}{1000}$**\n",
        "\n",
        "**entonces regresa: $x_{1}=1.5,$**\n",
        "**pero no se cumple.**\n",
        "\n",
        "**Si $f(a)*f(x_{1})=1.5<0$**\n",
        "\n",
        "**entonces $b=x_{1},$ pero no se cumple**\n",
        "\n",
        "**Si $f(b)*f(x_{1})=-0.75<0$**\n",
        "\n",
        "**entonces $a=x_{1},$ se cumple**\n",
        "\n",
        "**$x_{0}=x_{1}$**\n",
        "\n",
        "**$iteracion=iterancion+1=2$**\n",
        "\n",
        "*Segunda iteración: iteracion=2*\n",
        "\n",
        "---\n",
        "\n",
        "\n",
        "**Mientras $iteracion=2 \\leq 100$:**\n",
        "\n",
        "**$m=a+\\frac{b-a}{2}=1.5+\\frac{2-1.5}{2}=1.75$**\n",
        "\n",
        "**$x_{1}=m=1.75$**\n",
        "\n",
        "**Si $|f(m)|=0.0625 \\leq \\frac{1}{1000}$ y $|x_{1}-x_{0}|=0.0625\\leq \\frac{1}{1000}$**\n",
        "\n",
        "**entonces regresa: $x_{1}=1.75,$**\n",
        "**pero no se cumple.**\n",
        "\n",
        "**Si $f(a)*f(x_{1})=-0.046875<0$**\n",
        "\n",
        "**entonces $b=x_{1},$ se cumple**\n",
        "\n",
        "**Si $f(b)*f(x_{1})=0.0625<0$**\n",
        "\n",
        "**entonces $a=x_{1},$ no se cumple**\n",
        "\n",
        "**$x_{0}=x_{1}$**\n",
        "\n",
        "**$iteracion=iterancion+1=3$**\n",
        "\n",
        "*Tercera iteración: iteracion=3*\n",
        "\n",
        "---\n",
        "\n",
        "\n",
        "**Mientras $iteracion=3 \\leq 100$:**\n",
        "\n",
        "**$m=a+\\frac{b-a}{2}=1.5+\\frac{1.75-1.5}{2}=1.625$**\n",
        "\n",
        "**$x_{1}=m=1.625$**\n",
        "\n",
        "**Si $|f(m)|=0.03593 \\leq \\frac{1}{1000}$ y $|x_{1}-x_{0}|=0.125\\leq \\frac{1}{1000}$**\n",
        "\n",
        "**entonces regresa: $x_{1}=1.625,$**\n",
        "**pero no se cumple.**\n",
        "\n",
        "**Si $f(a)*f(x_{1})=0.269531<0$**\n",
        "\n",
        "**entonces $b=x_{1},$ no se cumple**\n",
        "\n",
        "**Si $f(b)*f(x_{1})=-0.0224609<0$**\n",
        "\n",
        "**entonces $a=x_{1},$ se cumple**\n",
        "\n",
        "**$x_{0}=x_{1}$**\n",
        "\n",
        "**$iteracion=iterancion+1=4$**\n",
        "\n",
        "*Cuarta iteración: iteracion=4*\n",
        "\n",
        "---\n",
        "\n",
        "\n",
        "**Mientras $iteracion=4 \\leq 100$:**\n",
        "\n",
        "**$m=a+\\frac{b-a}{2}=1.5+\\frac{1.75-1.5}{2}=1.685$**\n",
        "\n",
        "**$x_{1}=m=1.685$**\n",
        "\n",
        "**Si $|f(m)|=0.1523 \\leq \\frac{1}{1000}$ y $|x_{1}-x_{0}|=0.0625\\leq \\frac{1}{1000}$**\n",
        "\n",
        "**entonces regresa: $x_{1}=1.685,$**\n",
        "**pero no se cumple.**\n",
        "\n",
        "**Si $f(a)*f(x_{1})=0.05474<0$**\n",
        "\n",
        "**entonces $b=x_{1},$ no se cumple**\n",
        "\n",
        "**Si $f(b)*f(x_{1})=-0.0095214<0$**\n",
        "\n",
        "**entonces $a=x_{1},$ se cumple**\n",
        "\n",
        "**$x_{0}=x_{1}$**\n",
        "\n",
        "**$iteracion=iterancion+1=4$**\n",
        "\n",
        "*Quinta iteración: iteracion=5*\n",
        "\n",
        "---\n",
        "\n",
        "\n",
        "**Mientras $iteracion=5 \\leq 100$:**\n",
        "\n",
        "**$m=a+\\frac{b-a}{2}=1.5+\\frac{1.75-1.5}{2}=1.7125$**\n",
        "\n",
        "**$x_{1}=m=1.7125$**\n",
        "\n",
        "**Si $|f(m)|=0.050193 \\leq \\frac{1}{1000}$ y $|x_{1}-x_{0}|=0.03249\\leq \\frac{1}{1000}$**\n",
        "\n",
        "**entonces regresa: $x_{1}=1.7125,$**\n",
        "**pero no se cumple.**\n",
        "\n",
        "**Si $f(a)*f(x_{1})=0.008069<0$**\n",
        "\n",
        "**entonces $b=x_{1},$ no se cumple**\n",
        "\n",
        "**Si $f(b)*f(x_{1})=-0.00313710<0$**\n",
        "\n",
        "**entonces $a=x_{1},$ se cumple**\n",
        "\n",
        "**$x_{0}=x_{1}$**\n",
        "\n",
        "**$iteracion=iterancion+1=5$**"
      ],
      "metadata": {
        "id": "BpsDQZTvP0xw"
      }
    }
  ]
}