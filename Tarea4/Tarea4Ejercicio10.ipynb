{
  "nbformat": 4,
  "nbformat_minor": 0,
  "metadata": {
    "colab": {
      "provenance": [],
      "authorship_tag": "ABX9TyPISF0MVFrkYJMcB90sdX/W",
      "include_colab_link": true
    },
    "kernelspec": {
      "name": "python3",
      "display_name": "Python 3"
    },
    "language_info": {
      "name": "python"
    }
  },
  "cells": [
    {
      "cell_type": "markdown",
      "metadata": {
        "id": "view-in-github",
        "colab_type": "text"
      },
      "source": [
        "<a href=\"https://colab.research.google.com/github/lajmej/Analisis_Numerico/blob/main/Tarea4/Tarea4Ejercicio10.ipynb\" target=\"_parent\"><img src=\"https://colab.research.google.com/assets/colab-badge.svg\" alt=\"Open In Colab\"/></a>"
      ]
    },
    {
      "cell_type": "markdown",
      "source": [
        "# Ejercicio 10\n",
        "\n",
        "**Integrantes**\n",
        "\n",
        "\n",
        "*   De la Luz Cristobal\n",
        "*   Mejia Quinarez Luis Eduardo\n",
        "\n"
      ],
      "metadata": {
        "id": "Dfb-LI-4rH9n"
      }
    },
    {
      "cell_type": "markdown",
      "source": [
        "\n",
        "\n",
        "10.   **Calcular las raíces del ejercicio 9 con el metodo de Secante**\n",
        "\n"
      ],
      "metadata": {
        "id": "M3h63Ub6r_0V"
      }
    },
    {
      "cell_type": "code",
      "source": [
        "\n",
        "def Secante(Tol,N,f,a,b):\n",
        "  #N es el numero de iteraciones\n",
        "  # Tol es la tolerancia\n",
        "  # f es la función a la cual se le quiere\n",
        "  # obtener las raíces\n",
        "  # a es el extremo izquierdo del intervalo\n",
        "  # b es el extremo derecho del intervalo\n",
        "\n",
        "    fa,fb=f(a),f(b)\n",
        "    if fa*fb>0.0:   #Verificamos que exista una raíz entre a y b, sino, se para el programa.\n",
        "        return print(\"No tiene raíces en el intervalo\")\n",
        "\n",
        "    Iter=0\n",
        "    while Iter<=N: #inicio del algoritmo de secante\n",
        "        fa,fb=f(a),f(b)\n",
        "        x1=a-(fa*(b-a)/(fb-fa)) #obtención del nuevo punto\n",
        "        fx1=f(x1)\n",
        "        if abs(fx1)<=Tol and abs(x1-x0)<=Tol: #verificación de continuidad sobre el nuevo punto\n",
        "            print(\"Tu raiz es \"+str(x1)) #devuelve la raiz\n",
        "            return x1\n",
        "\n",
        "        if fa*fx1<0:#Asignacion de una nueva b, si acaso.\n",
        "            b=x1\n",
        "        if fx1*fb<0:#Asignación de una nueva a, si acaso.\n",
        "            a=x1\n",
        "        x0=x1\n",
        "\n",
        "        Iter+=1\n",
        "\n",
        "    else:\n",
        "        print(\"El valor aproximado de tu raiz es\"+str(x1))"
      ],
      "metadata": {
        "id": "U5bXg47KuVBb"
      },
      "execution_count": 2,
      "outputs": []
    },
    {
      "cell_type": "markdown",
      "source": [
        "**a) $f(x)=e^{x}+2^{-x}+2cos(x)-6=0$, para $1 \\leq x \\leq 2$.**"
      ],
      "metadata": {
        "id": "_xz6dsgJevOW"
      }
    },
    {
      "cell_type": "code",
      "source": [
        "import math\n",
        "\n",
        "f_a=lambda x: math.exp(x) + (2**(x*-1)) + (2*(math.cos(x))) - 6\n",
        "\n",
        "print(\"Para la función en a), en el intervalo [1,2]\")\n",
        "\n",
        "FB= Secante(10**-5,100,f_a,1.0,2.0)"
      ],
      "metadata": {
        "colab": {
          "base_uri": "https://localhost:8080/"
        },
        "id": "rCrEMvOberm9",
        "outputId": "1c2aa65c-1846-4186-d28c-dec836d84f26"
      },
      "execution_count": 11,
      "outputs": [
        {
          "output_type": "stream",
          "name": "stdout",
          "text": [
            "Para la función en a), en el intervalo [1,2]\n",
            "Tu raiz es 1.8293827208408326\n"
          ]
        }
      ]
    },
    {
      "cell_type": "markdown",
      "source": [
        "**b) $f(x)=2xcos(2x) - (x-2)^{2}$, con $2 \\leq x \\leq 3$, $3 \\leq x \\leq 4$**"
      ],
      "metadata": {
        "id": "0RUge6sSj9z2"
      }
    },
    {
      "cell_type": "code",
      "source": [
        "f_b=lambda x: 2*x*(math.cos(2*x)) - (x-2)**(2)\n",
        "\n",
        "print(\"Para la función en b), en el intervalo [2,3]\")\n",
        "\n",
        "FB= Secante(10**-5,100,f_b,2.0,3.0)\n",
        "\n",
        "print(\"Para la función en b), en el intervalo [3,4]\")\n",
        "\n",
        "FB= Secante(10**-5,100,f_b,3.0,4.0)"
      ],
      "metadata": {
        "colab": {
          "base_uri": "https://localhost:8080/"
        },
        "id": "bxSNUsFJkkMb",
        "outputId": "4d996137-5d2a-4a88-aa06-c1d2e99b791a"
      },
      "execution_count": 17,
      "outputs": [
        {
          "output_type": "stream",
          "name": "stdout",
          "text": [
            "Para la función en b), en el intervalo [2,3]\n",
            "Tu raiz es 2.3706869176549192\n",
            "Para la función en b), en el intervalo [3,4]\n",
            "Tu raiz es 3.7221126198596197\n"
          ]
        }
      ]
    },
    {
      "cell_type": "markdown",
      "source": [
        "**c) $f(x)=e^{x}-3x^{2}=0$, para $0 \\leq x \\leq 1$ y $3 \\leq x \\leq 5$.**"
      ],
      "metadata": {
        "id": "I7qWTkhQlRER"
      }
    },
    {
      "cell_type": "code",
      "source": [
        "f_c=lambda x: math.exp(x) - 3*(x**2)\n",
        "\n",
        "print(\"Para la función en c), en el intervalo [0,1]\")\n",
        "\n",
        "FB= Secante(10**-5,100,f_c,0.0,1.0)\n",
        "\n",
        "print(\"Para la función en c), en el intervalo [3,5]\")\n",
        "\n",
        "FB= Secante(10**-5,100,f_c,3.0,5.0)"
      ],
      "metadata": {
        "colab": {
          "base_uri": "https://localhost:8080/"
        },
        "id": "vE7-sSAcmZtf",
        "outputId": "c96a3658-0674-4a89-929c-3af0adb70a4a"
      },
      "execution_count": 16,
      "outputs": [
        {
          "output_type": "stream",
          "name": "stdout",
          "text": [
            "Para la función en c), en el intervalo [0,1]\n",
            "Tu raiz es 0.9100075295782829\n",
            "Para la función en c), en el intervalo [3,5]\n",
            "Tu raiz es 3.7330786840488495\n"
          ]
        }
      ]
    }
  ]
}