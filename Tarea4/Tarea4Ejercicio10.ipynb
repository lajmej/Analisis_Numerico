{
  "nbformat": 4,
  "nbformat_minor": 0,
  "metadata": {
    "colab": {
      "provenance": [],
      "authorship_tag": "ABX9TyO5JL8HU0tT8IdfJLhV18Zv",
      "include_colab_link": true
    },
    "kernelspec": {
      "name": "python3",
      "display_name": "Python 3"
    },
    "language_info": {
      "name": "python"
    }
  },
  "cells": [
    {
      "cell_type": "markdown",
      "metadata": {
        "id": "view-in-github",
        "colab_type": "text"
      },
      "source": [
        "<a href=\"https://colab.research.google.com/github/lajmej/Analisis_Numerico/blob/main/Tarea4/Tarea4Ejercicio10.ipynb\" target=\"_parent\"><img src=\"https://colab.research.google.com/assets/colab-badge.svg\" alt=\"Open In Colab\"/></a>"
      ]
    },
    {
      "cell_type": "markdown",
      "source": [
        "# Ejercicio 10\n",
        "\n",
        "**Integrantes**\n",
        "\n",
        "\n",
        "*   De la Luz Cristobal\n",
        "*   Mejia Quinarez Luis Eduardo\n",
        "\n"
      ],
      "metadata": {
        "id": "Dfb-LI-4rH9n"
      }
    },
    {
      "cell_type": "markdown",
      "source": [
        "\n",
        "\n",
        "10.   **Calcular las raíces del ejercicio 8 con el metodo de Secante**\n",
        "\n"
      ],
      "metadata": {
        "id": "M3h63Ub6r_0V"
      }
    },
    {
      "cell_type": "code",
      "source": [
        "import math\n",
        "#Definimos la función del ejercicio 8\n",
        "def f(x):\n",
        "\treturn (x**2)-6\n",
        "#Damos dos puntos\n",
        "x_k=-5\n",
        "x_k_mas_1=-10.0\n",
        "#Iniciamos el algoritmo\n",
        "while(abs(x_k_mas_1-x_k)>(10**-10)):\n",
        "\n",
        "\tx_auxiliar=(x_k_mas_1)-f(x_k_mas_1)*((x_k_mas_1-x_k)/(f(x_k_mas_1)-f(x_k)))\n",
        "\n",
        "\tx_k=x_k_mas_1\n",
        "\tx_k_mas_1=x_auxiliar\n",
        "\n",
        "#Devolvemo resultado\n",
        "print(\"Primera raiz: \")\n",
        "print(x_k_mas_1)\n",
        "#Seleccionamos otros dos puntos para encontrar la segunda raiz\n",
        "x_k=5\n",
        "x_k_mas_1=10.0\n",
        "#Iniciamos algoritmo\n",
        "while(abs(x_k_mas_1-x_k)>(10**-10)):\n",
        "\n",
        "\tx_auxiliar=(x_k_mas_1)-f(x_k_mas_1)*((x_k_mas_1-x_k)/(f(x_k_mas_1)-f(x_k)))\n",
        "\n",
        "\tx_k=x_k_mas_1\n",
        "\tx_k_mas_1=x_auxiliar\n",
        "#Devolvemos resultado\n",
        "print(\"Segunda raiz: \")\n",
        "print(x_k_mas_1)"
      ],
      "metadata": {
        "colab": {
          "base_uri": "https://localhost:8080/"
        },
        "id": "U5bXg47KuVBb",
        "outputId": "1239be63-4df4-451c-d0f6-a29731b48cf9"
      },
      "execution_count": 2,
      "outputs": [
        {
          "output_type": "stream",
          "name": "stdout",
          "text": [
            "Primera raiz: \n",
            "-2.449489742783178\n",
            "Segunda raiz: \n",
            "2.449489742783178\n"
          ]
        }
      ]
    }
  ]
}