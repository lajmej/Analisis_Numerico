{
  "nbformat": 4,
  "nbformat_minor": 0,
  "metadata": {
    "colab": {
      "provenance": [],
      "authorship_tag": "ABX9TyM7yeAcag8kvOQmlaJSJ9g5",
      "include_colab_link": true
    },
    "kernelspec": {
      "name": "python3",
      "display_name": "Python 3"
    },
    "language_info": {
      "name": "python"
    }
  },
  "cells": [
    {
      "cell_type": "markdown",
      "metadata": {
        "id": "view-in-github",
        "colab_type": "text"
      },
      "source": [
        "<a href=\"https://colab.research.google.com/github/lajmej/Analisis_Numerico/blob/main/Tarea4/Tarea4Ejercicio16b.ipynb\" target=\"_parent\"><img src=\"https://colab.research.google.com/assets/colab-badge.svg\" alt=\"Open In Colab\"/></a>"
      ]
    },
    {
      "cell_type": "code",
      "execution_count": 3,
      "metadata": {
        "id": "tqQyASgzoLaJ"
      },
      "outputs": [],
      "source": [
        "import numpy as np\n",
        "\n",
        "#Despejamos x2 y x3 en la primera ecuación, desarrollamos los binomios y despues despejamos x1,\n",
        "#obtenemos las siguientes funciones:\n",
        "\n",
        "def G(x): #funcion que tiene como entrada vectores y devuelve vectores\n",
        "\n",
        "  x1=(8*x[0] - 5)/(3*x[0])\n",
        "\n",
        "  x2=1-x[0]\n",
        "\n",
        "  x3=3-x[0]\n",
        "\n",
        "  return np.array([x1,x2,x3])\n",
        "#Función para poner en marcha el algoritmo\n",
        "def fixed_point_iteration(G,x1_init, tol=1e-6, max_iter=100):\n",
        "    x_k=x1_init #guardamos punto inicial para iniciar con la iteracion\n",
        "    x=0 #variable auxiliar para hacer la iteración.\n",
        "    for i in range(max_iter):\n",
        "      x=G(x_k)\n",
        "      if np.linalg.norm(x - x_k)<tol: #comprobamos si la distancia entro los puntos concecutivos es menor a la tolerancia\n",
        "        print(\"Tu raiz es: \" + str(x)) #Si es menor a la tolerancia devuelve la \"raiz\"\n",
        "        return x\n",
        "\n",
        "      x_k=x\n",
        "\n",
        "    print(\"La aproximación a tu raiz es: \" + str(x_k))\n",
        "    return x_k\n"
      ]
    },
    {
      "cell_type": "code",
      "source": [
        "x0 = np.array([1.0, 0.0,2.0]) #Damos un punto inicial\n",
        "FB=fixed_point_iteration(G,x0,0.00001,10)"
      ],
      "metadata": {
        "colab": {
          "base_uri": "https://localhost:8080/"
        },
        "id": "5nayEU7n3ULH",
        "outputId": "1e29f757-1bc0-49be-f761-21d779d12f0e"
      },
      "execution_count": 4,
      "outputs": [
        {
          "output_type": "stream",
          "name": "stdout",
          "text": [
            "Tu raiz es: [1. 0. 2.]\n"
          ]
        }
      ]
    }
  ]
}