{
  "nbformat": 4,
  "nbformat_minor": 0,
  "metadata": {
    "colab": {
      "provenance": [],
      "authorship_tag": "ABX9TyN25v9Top2JvA4cMDPRjcrl",
      "include_colab_link": true
    },
    "kernelspec": {
      "name": "python3",
      "display_name": "Python 3"
    },
    "language_info": {
      "name": "python"
    }
  },
  "cells": [
    {
      "cell_type": "markdown",
      "metadata": {
        "id": "view-in-github",
        "colab_type": "text"
      },
      "source": [
        "<a href=\"https://colab.research.google.com/github/lajmej/Analisis_Numerico/blob/main/Tarea4/Tarea4Ejercicio12.ipynb\" target=\"_parent\"><img src=\"https://colab.research.google.com/assets/colab-badge.svg\" alt=\"Open In Colab\"/></a>"
      ]
    },
    {
      "cell_type": "markdown",
      "source": [
        "# Ejercicio 12\n",
        "\n",
        "**Integrantes:**\n",
        "\n",
        "\n",
        "\n",
        "*   De la Luz Cristobal\n",
        "*   Mejia Quinarez Luis Eduardo\n",
        "\n"
      ],
      "metadata": {
        "id": "WI66zthgxakE"
      }
    },
    {
      "cell_type": "markdown",
      "source": [
        "\n",
        "\n",
        "12.    **El siguiente polinomio, $P(x)=230x^{4}+18x^{3}+9x^{2}-221x-9$, tiene dos ceros, uno en $[-1,0]$ y otro en $[0,1]$, hallarlos con una tolerancia de $10^{-6}$ para: **\n",
        "\n",
        "\n",
        "\n",
        "*   a) Método de Secante\n",
        "*   b) Método de Newton\n",
        "\n",
        "\n",
        "\n"
      ],
      "metadata": {
        "id": "TNJNYRv-xpdC"
      }
    },
    {
      "cell_type": "code",
      "source": [
        "import math\n",
        "#Metodo de Newton\n",
        "#Primero escribimos la función\n",
        "def f(x):\n",
        "\treturn 230.0*(x**4)+18*(x**3)+9*(x**2)-221*x-9\n",
        "#Luego la derivada de la función\n",
        "def f_derivada(x):\n",
        "\treturn 4*230.0*(x**3)+3*18*(x**2)+2*9*(x**1)-221\n",
        "#Vamos a dar un primer punto\n",
        "x=-2.0\n",
        "#Un segundo punto auxiliar para medir la distancia entre puntos concecutivos\n",
        "x_1=0.0\n",
        "#Vamoa a escribir un bucle While, condicionado a 10^-6\n",
        "\n",
        "while(abs(x-x_1)>(10**-6)):\n",
        "\n",
        "\tx_1=x\n",
        "\n",
        "\tx=x-(f(x)/f_derivada(x))\n",
        "\n",
        "#Una vez que la distancia entre x y x_1 supero el \"limite\", regresamos x\n",
        "print(\"Metodo Newton\")\n",
        "print(\"Intervalo [-1,0]\")\n",
        "print(x)\n",
        "\n",
        "#Pero esto fue para el intervalo [-1,0]\n",
        "#Ahora lo haremos para el intervalo [0,1]\n",
        "#Otro punto, entonces:\n",
        "x=2\n",
        "\n",
        "while(abs(x-x_1)>(10**-6)):\n",
        "\n",
        "\tx_1=x\n",
        "\n",
        "\tx=x-(f(x)/f_derivada(x))\n",
        "print(\"Intervalo [0,1]\")\n",
        "print(x)\n",
        "#Ahora sigue metodo secante, solo debemos cambiar los bucles While\n",
        "print(\"Metodo Secante\")\n",
        "print(\"Intervalo [-1,0]\")\n",
        "x_k=-2\n",
        "x_k_menos_uno=-3\n",
        "while(abs(x_k-x_k_menos_uno)>(10**-6)):\n",
        "\t#x auxiliar para guardar x_k\n",
        "\tx_aux=x_k\n",
        "\t#Nueva x_k\n",
        "\tx_k=x_k-f(x_k)*((x_k-x_k_menos_uno)/(f(x_k)-f(x_k_menos_uno)))\n",
        "\t#Actualizamos x_k-1 a x_k\n",
        "\tx_k_menos_uno=x_aux\n",
        "\n",
        "print(x_k)\n",
        "print(\"Intervalo [0,1]\")\n",
        "x_k=2\n",
        "x_k_menos_uno=3\n",
        "while(abs(x_k-x_k_menos_uno)>(10**-6)):\n",
        "\t#x auxiliar para guardar x_k\n",
        "\tx_aux=x_k\n",
        "\t#Nueva x_k\n",
        "\tx_k=x_k-f(x_k)*((x_k-x_k_menos_uno)/(f(x_k)-f(x_k_menos_uno)))\n",
        "\t#Actualizamos x_k-1 a x_k\n",
        "\tx_k_menos_uno=x_aux\n",
        "\n",
        "print(x_k)\n",
        "\n",
        "f=lambda x: (230.0*(x**4)+18*(x**3)+9*(x**2)-221*x-9)\n",
        "\n",
        "def ReglaFalsa(Tol,N,f,a,b):\n",
        "  #N es el numero de iteraciones\n",
        "  # Tol es la tolerancia\n",
        "  # f es la función a la cual se le quiere\n",
        "  # obtener las raíces\n",
        "  # a es el extremo izquierdo del intervalo\n",
        "  # b es el extremo derecho del intervalo\n",
        "\n",
        "  fa,fb=f(a),f(b)\n",
        "  if fa*fb>0.0:\n",
        "    print(\"No tiene raíces en el intervalo\")\n",
        "\n",
        "  x0=0.0\n",
        "  Iter=0\n",
        "  while Iter<=N:\n",
        "    x1=(a*fb-b*fa)/(fb-fa)\n",
        "    fx1=f(x1)\n",
        "    if abs(fx1)<=Tol and abs(x1-x0)<=Tol:\n",
        "      print(\"Tu raiz es \"+str(x1))\n",
        "      return x1\n",
        "\n",
        "    if fa*fx1<0:\n",
        "      b=x1\n",
        "    if fx1*fb<0:\n",
        "      a=x1\n",
        "\n",
        "    x0=x1\n",
        "    Iter+=1\n",
        "\n",
        "  else:\n",
        "    print(\"El valor aproximado de tu raiz es\"+str(x1))"
      ],
      "metadata": {
        "colab": {
          "base_uri": "https://localhost:8080/"
        },
        "id": "y-fpY7rNzhlH",
        "outputId": "5ec0457e-56ff-4695-d714-4c975ef67b73"
      },
      "execution_count": 4,
      "outputs": [
        {
          "output_type": "stream",
          "name": "stdout",
          "text": [
            "Metodo Newton\n",
            "Intervalo [-1,0]\n",
            "-0.04065928831575886\n",
            "Intervalo [0,1]\n",
            "0.9623984187505691\n",
            "Metodo Secante\n",
            "Intervalo [-1,0]\n",
            "-0.040659288315758865\n",
            "Intervalo [0,1]\n",
            "0.962398418753272\n"
          ]
        }
      ]
    },
    {
      "cell_type": "code",
      "source": [
        "\n",
        "r=print(str(ReglaFalsa(10**-6,100,f,-1,0)) + \" en el intervelo [-1,0]\")\n",
        "r=print(str(ReglaFalsa(10**-6,100,f,0,1)) + \" en el intervelo [0,-1]\")"
      ],
      "metadata": {
        "colab": {
          "base_uri": "https://localhost:8080/"
        },
        "id": "lDp2Xn5KWACD",
        "outputId": "9d30f5fc-cc42-4a37-cba9-8687327de9de"
      },
      "execution_count": 5,
      "outputs": [
        {
          "output_type": "stream",
          "name": "stdout",
          "text": [
            "El valor aproximado de tu raiz es-0.04065317664256345\n",
            "None en el intervelo [-1,0]\n",
            "Tu raiz es 0.9623984176712183\n",
            "0.9623984176712183 en el intervelo [0,-1]\n"
          ]
        }
      ]
    },
    {
      "cell_type": "code",
      "source": [],
      "metadata": {
        "id": "OYqaSmD6VsT6"
      },
      "execution_count": null,
      "outputs": []
    }
  ]
}