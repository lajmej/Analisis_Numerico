{
  "nbformat": 4,
  "nbformat_minor": 0,
  "metadata": {
    "colab": {
      "provenance": [],
      "authorship_tag": "ABX9TyMQkERSObGgubray7qg3Kh+",
      "include_colab_link": true
    },
    "kernelspec": {
      "name": "python3",
      "display_name": "Python 3"
    },
    "language_info": {
      "name": "python"
    }
  },
  "cells": [
    {
      "cell_type": "markdown",
      "metadata": {
        "id": "view-in-github",
        "colab_type": "text"
      },
      "source": [
        "<a href=\"https://colab.research.google.com/github/lajmej/Analisis_Numerico/blob/main/Tarea4/Tarea4Ejercicio9.ipynb\" target=\"_parent\"><img src=\"https://colab.research.google.com/assets/colab-badge.svg\" alt=\"Open In Colab\"/></a>"
      ]
    },
    {
      "cell_type": "markdown",
      "source": [
        "# Ejercicio 9\n",
        "\n",
        "**Integrantes:**\n",
        "\n",
        "\n",
        "\n",
        "*   De la Luz Cristobal\n",
        "*   Mejia Quinarez Luis Eduardo\n",
        "\n"
      ],
      "metadata": {
        "id": "WI66zthgxakE"
      }
    },
    {
      "cell_type": "code",
      "source": [
        "#Ejercicio 9\n",
        "import numpy as np\n",
        "\n",
        "def f(x):\n",
        "    return np.exp(x) + 2**(-x) + 2 * np.cos(x) - 6\n",
        "\n",
        "def df(x):\n",
        "    return np.exp(x) - 2**(-x) * np.log(2) - 2 * np.sin(x)\n",
        "\n",
        "def newton_method(f, df, x0, tol=1e-7, max_iter=1000):\n",
        "    x = x0\n",
        "    for i in range(max_iter):\n",
        "        fx = f(x)\n",
        "        dfx = df(x)\n",
        "        if dfx == 0:\n",
        "            raise ValueError(\"Derivative is zero. No solution found.\")\n",
        "        x_new = x - fx / dfx\n",
        "        if abs(x_new - x) < tol:\n",
        "            return x_new\n",
        "        x = x_new\n",
        "    raise ValueError(\"Maximum number of iterations reached. No solution found.\")\n",
        "\n",
        "# Initial guess within the interval [1, 2]\n",
        "x0 = 1.5\n",
        "\n",
        "# Solve the equation using Newton's method\n",
        "solution = newton_method(f, df, x0)\n",
        "print(\"Solution:\", solution)"
      ],
      "metadata": {
        "colab": {
          "base_uri": "https://localhost:8080/"
        },
        "id": "krtDRlLd_DOJ",
        "outputId": "95d23553-082d-4995-e385-0cf6102ea69c"
      },
      "execution_count": null,
      "outputs": [
        {
          "output_type": "stream",
          "name": "stdout",
          "text": [
            "Solution: 1.829383601933849\n"
          ]
        }
      ]
    },
    {
      "cell_type": "code",
      "source": [
        "import numpy as np\n",
        "\n",
        "def f(x):\n",
        "    return 2 * x * np.cos(2 * x) - (x - 2)**2\n",
        "\n",
        "def df(x):\n",
        "    return 2 * np.cos(2 * x) - 4 * x * np.sin(2 * x) - 2 * (x - 2)\n",
        "\n",
        "def newton_method(f, df, x0, tol=1e-7, max_iter=1000):\n",
        "    x = x0\n",
        "    for i in range(max_iter):\n",
        "        fx = f(x)\n",
        "        dfx = df(x)\n",
        "        if dfx == 0:\n",
        "            raise ValueError(\"Derivative is zero. No solution found.\")\n",
        "        x_new = x - fx / dfx\n",
        "        if abs(x_new - x) < tol:\n",
        "            return x_new\n",
        "        x = x_new\n",
        "    raise ValueError(\"Maximum number of iterations reached. No solution found.\")\n",
        "\n",
        "# Solve the equation using Newton's method in the interval [2, 3]\n",
        "x0_1 = 2.5  # Initial guess within the interval [2, 3]\n",
        "solution_1 = newton_method(f, df, x0_1)\n",
        "print(\"Solution in [2, 3]:\", solution_1)\n",
        "\n",
        "# Solve the equation using Newton's method in the interval [3, 4]\n",
        "x0_2 = 3.5  # Initial guess within the interval [3, 4]\n",
        "solution_2 = newton_method(f, df, x0_2)\n",
        "print(\"Solution in [3, 4]:\", solution_2)\n",
        "\n"
      ],
      "metadata": {
        "colab": {
          "base_uri": "https://localhost:8080/"
        },
        "id": "DBXw5wQe_hhl",
        "outputId": "4c91a09e-4da1-4ae0-b5be-3ba2c6e6c55b"
      },
      "execution_count": null,
      "outputs": [
        {
          "output_type": "stream",
          "name": "stdout",
          "text": [
            "Solution in [2, 3]: 2.370686917662262\n",
            "Solution in [3, 4]: 3.722112773101788\n"
          ]
        }
      ]
    },
    {
      "cell_type": "code",
      "source": [
        "import numpy as np\n",
        "\n",
        "def f(x):\n",
        "    return np.exp(x) - 3 * x**2\n",
        "\n",
        "def df(x):\n",
        "    return np.exp(x) - 6 * x\n",
        "\n",
        "def newton_method(f, df, x0, tol=1e-7, max_iter=1000):\n",
        "    x = x0\n",
        "    for i in range(max_iter):\n",
        "        fx = f(x)\n",
        "        dfx = df(x)\n",
        "        if dfx == 0:\n",
        "            raise ValueError(\"Derivative is zero. No solution found.\")\n",
        "        x_new = x - fx / dfx\n",
        "        if abs(x_new - x) < tol:\n",
        "            return x_new\n",
        "        x = x_new\n",
        "    raise ValueError(\"Maximum number of iterations reached. No solution found.\")\n",
        "\n",
        "# Solve the equation using Newton's method in the interval [0, 1]\n",
        "x0_1 = 0.5  # Initial guess within the interval [0, 1]\n",
        "solution_1 = newton_method(f, df, x0_1)\n",
        "print(\"Solution in [0, 1]:\", solution_1)\n",
        "\n",
        "# Solve the equation using Newton's method in the interval [3, 5]\n",
        "x0_2 = 4.0  # Initial guess within the interval [3, 5]\n",
        "solution_2 = newton_method(f, df, x0_2)\n",
        "print(\"Solution in [3, 5]:\", solution_2)\n"
      ],
      "metadata": {
        "colab": {
          "base_uri": "https://localhost:8080/"
        },
        "id": "AXnI7orWAKak",
        "outputId": "17b3737f-e37b-48a9-b01f-0a01790f604f"
      },
      "execution_count": null,
      "outputs": [
        {
          "output_type": "stream",
          "name": "stdout",
          "text": [
            "Solution in [0, 1]: 0.9100075724887138\n",
            "Solution in [3, 5]: 3.7330790286328144\n"
          ]
        }
      ]
    }
  ]
}