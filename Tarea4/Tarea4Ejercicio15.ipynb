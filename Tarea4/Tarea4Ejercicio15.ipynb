{
  "nbformat": 4,
  "nbformat_minor": 0,
  "metadata": {
    "colab": {
      "provenance": [],
      "authorship_tag": "ABX9TyPjdh+d6uOSRkRZKAxxj89j",
      "include_colab_link": true
    },
    "kernelspec": {
      "name": "python3",
      "display_name": "Python 3"
    },
    "language_info": {
      "name": "python"
    }
  },
  "cells": [
    {
      "cell_type": "markdown",
      "metadata": {
        "id": "view-in-github",
        "colab_type": "text"
      },
      "source": [
        "<a href=\"https://colab.research.google.com/github/lajmej/Analisis_Numerico/blob/main/Tarea4/Tarea4Ejercicio15.ipynb\" target=\"_parent\"><img src=\"https://colab.research.google.com/assets/colab-badge.svg\" alt=\"Open In Colab\"/></a>"
      ]
    },
    {
      "cell_type": "markdown",
      "source": [
        "# Ejercicio 15\n",
        "\n",
        "**Integrantes:**\n",
        "\n",
        "\n",
        "\n",
        "*   De la Luz Cristobal\n",
        "*   Mejia Quinarez Luis Eduardo\n",
        "\n"
      ],
      "metadata": {
        "id": "WI66zthgxakE"
      }
    },
    {
      "cell_type": "code",
      "source": [
        "#Ejercicio 15 a\n",
        "import numpy as np\n",
        "\n",
        "# Definimos las funciones f1 y f2\n",
        "def f1(x1, x2):\n",
        "    return x1 + x2 * (x2 * (5 - x2) - 2) - 13\n",
        "\n",
        "def f2(x1, x2):\n",
        "    return x1 + x2 * (x2 * (1 + x2) + 14) - 29\n",
        "\n",
        "# Definimos las derivadas parciales de f1 y f2\n",
        "def df1_dx1(x1, x2):\n",
        "    return 1\n",
        "\n",
        "def df1_dx2(x1, x2):\n",
        "    return x2 * (10 - 3*x2) - 2\n",
        "\n",
        "def df2_dx1(x1, x2):\n",
        "    return 1\n",
        "\n",
        "def df2_dx2(x1, x2):\n",
        "    return x2 * (2*x2 + 1) + 14 + x2 * (1 + x2)\n",
        "\n",
        "# Punto inicial\n",
        "x1, x2 = 15, -2\n",
        "\n",
        "# Tolerancia y número máximo de iteraciones\n",
        "tol = 1e-10\n",
        "max_iter = 100\n",
        "\n",
        "for _ in range(max_iter):\n",
        "    # Evaluamos las funciones en el punto actual\n",
        "    F1 = f1(x1, x2)\n",
        "    F2 = f2(x1, x2)\n",
        "\n",
        "    # Evaluamos las derivadas parciales en el punto actual\n",
        "    J11 = df1_dx1(x1, x2)\n",
        "    J12 = df1_dx2(x1, x2)\n",
        "    J21 = df2_dx1(x1, x2)\n",
        "    J22 = df2_dx2(x1, x2)\n",
        "\n",
        "    # Matriz Jacobiana\n",
        "    J = np.array([[J11, J12],\n",
        "                  [J21, J22]])\n",
        "\n",
        "    # Vector de funciones\n",
        "    F = np.array([F1, F2])\n",
        "\n",
        "    # Resolviendo el sistema lineal J * delta = -F\n",
        "    delta = np.linalg.solve(J, -F)\n",
        "\n",
        "    # Actualizamos las variables\n",
        "    x1 += delta[0]\n",
        "    x2 += delta[1]\n",
        "\n",
        "    # Comprobamos la convergencia\n",
        "    if np.linalg.norm(delta) < tol:\n",
        "        break\n",
        "\n",
        "print(f'Solución: x1 = {x1}, x2 = {x2}')\n"
      ],
      "metadata": {
        "colab": {
          "base_uri": "https://localhost:8080/"
        },
        "id": "V-q_7rkk-Frx",
        "outputId": "89b92fad-90ca-4639-c1f7-670d68757f95"
      },
      "execution_count": null,
      "outputs": [
        {
          "output_type": "stream",
          "name": "stdout",
          "text": [
            "Solución: x1 = 10.26530102108641, x2 = 1.1396805819961064\n"
          ]
        }
      ]
    },
    {
      "cell_type": "code",
      "source": [
        "#15 b\n",
        "import numpy as np\n",
        "\n",
        "# Definimos las funciones f1, f2 y f3\n",
        "def f1(x1, x2, x3):\n",
        "    return x1**2 + x2**2 + x3**2 - 5\n",
        "\n",
        "def f2(x1, x2, x3):\n",
        "    return x1 + x2 - 1\n",
        "\n",
        "def f3(x1, x2, x3):\n",
        "    return x1 + x3 - 3\n",
        "\n",
        "# Definimos las derivadas parciales de f1, f2 y f3\n",
        "def df1_dx1(x1, x2, x3):\n",
        "    return 2 * x1\n",
        "\n",
        "def df1_dx2(x1, x2, x3):\n",
        "    return 2 * x2\n",
        "\n",
        "def df1_dx3(x1, x2, x3):\n",
        "    return 2 * x3\n",
        "\n",
        "def df2_dx1(x1, x2, x3):\n",
        "    return 1\n",
        "\n",
        "def df2_dx2(x1, x2, x3):\n",
        "    return 1\n",
        "\n",
        "def df2_dx3(x1, x2, x3):\n",
        "    return 0\n",
        "\n",
        "def df3_dx1(x1, x2, x3):\n",
        "    return 1\n",
        "\n",
        "def df3_dx2(x1, x2, x3):\n",
        "    return 0\n",
        "\n",
        "def df3_dx3(x1, x2, x3):\n",
        "    return 1\n",
        "\n",
        "# Punto inicial\n",
        "x1 = (1 + np.sqrt(3)) / 2\n",
        "x2 = (1 - np.sqrt(3)) / 2\n",
        "x3 = np.sqrt(3)\n",
        "\n",
        "# Tolerancia y número máximo de iteraciones\n",
        "tol = 1e-10\n",
        "max_iter = 100\n",
        "\n",
        "for _ in range(max_iter):\n",
        "    # Evaluamos las funciones en el punto actual\n",
        "    F1 = f1(x1, x2, x3)\n",
        "    F2 = f2(x1, x2, x3)\n",
        "    F3 = f3(x1, x2, x3)\n",
        "\n",
        "    # Evaluamos las derivadas parciales en el punto actual\n",
        "    J11 = df1_dx1(x1, x2, x3)\n",
        "    J12 = df1_dx2(x1, x2, x3)\n",
        "    J13 = df1_dx3(x1, x2, x3)\n",
        "    J21 = df2_dx1(x1, x2, x3)\n",
        "    J22 = df2_dx2(x1, x2, x3)\n",
        "    J23 = df2_dx3(x1, x2, x3)\n",
        "    J31 = df3_dx1(x1, x2, x3)\n",
        "    J32 = df3_dx2(x1, x2, x3)\n",
        "    J33 = df3_dx3(x1, x2, x3)\n",
        "\n",
        "    # Matriz Jacobiana\n",
        "    J = np.array([[J11, J12, J13],\n",
        "                  [J21, J22, J23],\n",
        "                  [J31, J32, J33]])\n",
        "\n",
        "    # Vector de funciones\n",
        "    F = np.array([F1, F2, F3])\n",
        "\n",
        "    # Intentar resolver el sistema lineal J * delta = -F\n",
        "    try:\n",
        "        delta = np.linalg.solve(J, -F)\n",
        "    except np.linalg.LinAlgError:\n",
        "        print(\"Singular matrix encountered. Perturbing the current guess.\")\n",
        "        # Perturbar ligeramente los puntos actuales\n",
        "        x1 += np.random.uniform(-1e-4, 1e-4)\n",
        "        x2 += np.random.uniform(-1e-4, 1e-4)\n",
        "        x3 += np.random.uniform(-1e-4, 1e-4)\n",
        "        continue\n",
        "\n",
        "    # Actualizamos las variables\n",
        "    x1 += delta[0]\n",
        "    x2 += delta[1]\n",
        "    x3 += delta[2]\n",
        "\n",
        "    # Comprobamos la convergencia\n",
        "    if np.linalg.norm(delta) < tol:\n",
        "        break\n",
        "\n",
        "print(f'Solución: x1 = {x1}, x2 = {x2}, x3 = {x3}')\n"
      ],
      "metadata": {
        "colab": {
          "base_uri": "https://localhost:8080/"
        },
        "id": "BfJSczN9_O12",
        "outputId": "c5aac4a9-3bdf-4623-aa4b-4d2606fd17f4"
      },
      "execution_count": null,
      "outputs": [
        {
          "output_type": "stream",
          "name": "stdout",
          "text": [
            "Singular matrix encountered. Perturbing the current guess.\n",
            "Solución: x1 = 1.0, x2 = 5.93746781277309e-17, x3 = 2.0\n"
          ]
        }
      ]
    }
  ]
}