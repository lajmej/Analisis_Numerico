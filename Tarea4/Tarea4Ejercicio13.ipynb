{
  "nbformat": 4,
  "nbformat_minor": 0,
  "metadata": {
    "colab": {
      "provenance": [],
      "authorship_tag": "ABX9TyN1EAXpd8eh/E/qRv+O9Tq1",
      "include_colab_link": true
    },
    "kernelspec": {
      "name": "python3",
      "display_name": "Python 3"
    },
    "language_info": {
      "name": "python"
    }
  },
  "cells": [
    {
      "cell_type": "markdown",
      "metadata": {
        "id": "view-in-github",
        "colab_type": "text"
      },
      "source": [
        "<a href=\"https://colab.research.google.com/github/lajmej/Analisis_Numerico/blob/main/Tarea4/Tarea4Ejercicio13.ipynb\" target=\"_parent\"><img src=\"https://colab.research.google.com/assets/colab-badge.svg\" alt=\"Open In Colab\"/></a>"
      ]
    },
    {
      "cell_type": "markdown",
      "source": [
        "# Ejercicio 13\n",
        "\n",
        "**Integrantes:**\n",
        "\n",
        "\n",
        "\n",
        "*   De la Luz Cristobal\n",
        "*   Mejia Quinarez Luis Eduardo\n",
        "\n"
      ],
      "metadata": {
        "id": "WI66zthgxakE"
      }
    },
    {
      "cell_type": "code",
      "source": [
        "#Ejercicio 13. a\n",
        "import numpy as np\n",
        "\n",
        "def f(x):\n",
        "    I, phi, delta = x\n",
        "    return np.array([\n",
        "        I * np.cos(phi) - 2/3,\n",
        "        np.cos(delta) + 0.91 * I * np.sin(phi + delta) - 1.22,\n",
        "        0.76 * I * np.cos(phi + delta) - np.sin(delta)\n",
        "    ])\n",
        "\n",
        "def jacobian(x):\n",
        "    I, phi, delta = x\n",
        "    return np.array([\n",
        "        [np.cos(phi), -I * np.sin(phi), 0],\n",
        "        [0.91 * np.sin(phi + delta), 0.91 * I * np.cos(phi + delta), -np.sin(delta)],\n",
        "        [0.76 * np.cos(phi + delta), -0.76 * I * np.sin(phi + delta), 0.76 * I * -np.sin(phi + delta) - np.cos(delta)]\n",
        "    ])\n",
        "\n",
        "def newton_method(f, jacobian, x0, tol=1e-7, max_iter=1000):\n",
        "    x = np.array(x0)\n",
        "    for _ in range(max_iter):\n",
        "        J = jacobian(x)\n",
        "        F = f(x)\n",
        "        dx = np.linalg.solve(J, -F)\n",
        "        x = x + dx\n",
        "        if np.linalg.norm(dx) < tol:\n",
        "            return x\n",
        "    raise ValueError(\"No se encontró solución en el número máximo de iteraciones\")\n",
        "\n",
        "# Valores iniciales\n",
        "x0 = [1, 0.1, 0.1]\n",
        "\n",
        "# Resolver el sistema de ecuaciones\n",
        "sol = newton_method(f, jacobian, x0)\n",
        "\n",
        "print(\"Solución:\")\n",
        "print(f\"I = {sol[0]}\")\n",
        "print(f\"φ = {sol[1]}\")\n",
        "print(f\"δ = {sol[2]}\")\n"
      ],
      "metadata": {
        "colab": {
          "base_uri": "https://localhost:8080/"
        },
        "id": "mRs-U-dc8c1v",
        "outputId": "cb872e6a-a8cd-409c-e537-dca9d97ad219"
      },
      "execution_count": null,
      "outputs": [
        {
          "output_type": "stream",
          "name": "stdout",
          "text": [
            "Solución:\n",
            "I = 0.6701311613421165\n",
            "φ = 0.10172842530531216\n",
            "δ = 0.44894138576536247\n"
          ]
        }
      ]
    },
    {
      "cell_type": "code",
      "source": [
        "#Ejercicio 13. b\n",
        "import numpy as np\n",
        "\n",
        "# Definición de las funciones no lineales\n",
        "def f(x):\n",
        "    I, phi, delta = x\n",
        "    return np.array([\n",
        "        I * np.cos(phi) - 2/3,\n",
        "        np.cos(delta) + 0.91 * I * np.sin(phi + delta) - 1.22,\n",
        "        0.76 * I * np.cos(phi + delta) - np.sin(delta)\n",
        "    ])\n",
        "\n",
        "# Definición del Jacobiano\n",
        "def jacobian(x):\n",
        "    I, phi, delta = x\n",
        "    return np.array([\n",
        "        [np.cos(phi), -I * np.sin(phi), 0],\n",
        "        [0.91 * np.sin(phi + delta), 0.91 * I * np.cos(phi + delta), -np.sin(delta)],\n",
        "        [0.76 * np.cos(phi + delta), -0.76 * I * np.sin(phi + delta), 0.76 * I * -np.sin(phi + delta) - np.cos(delta)]\n",
        "    ])\n",
        "\n",
        "# Método de Newton\n",
        "def newton_method(f, jacobian, x0, tol=1e-7, max_iter=1000):\n",
        "    x = np.array(x0)\n",
        "    for _ in range(max_iter):\n",
        "        J = jacobian(x)\n",
        "        F = f(x)\n",
        "        dx = np.linalg.solve(J, -F)\n",
        "        x = x + dx\n",
        "        if np.linalg.norm(dx) < tol:\n",
        "            return x\n",
        "    raise ValueError(\"No se encontró solución en el número máximo de iteraciones\")\n",
        "\n",
        "# Valores iniciales\n",
        "x0 = [1, 1, 1]\n",
        "\n",
        "# Resolver el sistema de ecuaciones\n",
        "sol = newton_method(f, jacobian, x0)\n",
        "\n",
        "print(\"Solución:\")\n",
        "print(f\"I = {sol[0]}\")\n",
        "print(f\"φ = {sol[1]}\")\n",
        "print(f\"δ = {sol[2]}\")\n"
      ],
      "metadata": {
        "colab": {
          "base_uri": "https://localhost:8080/"
        },
        "id": "q-5mbjoU9C4E",
        "outputId": "7d63d84a-006c-48b2-fd85-7dad06d4e845"
      },
      "execution_count": null,
      "outputs": [
        {
          "output_type": "stream",
          "name": "stdout",
          "text": [
            "Solución:\n",
            "I = 0.6701311613706241\n",
            "φ = 12.668099040081222\n",
            "δ = 0.4489413856860453\n"
          ]
        }
      ]
    }
  ]
}