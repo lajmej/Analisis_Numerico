{
  "nbformat": 4,
  "nbformat_minor": 0,
  "metadata": {
    "colab": {
      "provenance": [],
      "authorship_tag": "ABX9TyOEG7zpjFbYHqxn2bk+Wnwh",
      "include_colab_link": true
    },
    "kernelspec": {
      "name": "python3",
      "display_name": "Python 3"
    },
    "language_info": {
      "name": "python"
    }
  },
  "cells": [
    {
      "cell_type": "markdown",
      "metadata": {
        "id": "view-in-github",
        "colab_type": "text"
      },
      "source": [
        "<a href=\"https://colab.research.google.com/github/lajmej/Analisis_Numerico/blob/main/Tarea4/tarea4Ejercicio6.ipynb\" target=\"_parent\"><img src=\"https://colab.research.google.com/assets/colab-badge.svg\" alt=\"Open In Colab\"/></a>"
      ]
    },
    {
      "cell_type": "markdown",
      "source": [
        "#Ejercicio 6\n",
        "\n",
        "**Integrantes:**\n",
        "\n",
        "\n",
        "\n",
        "*   De la Luz Siles Cristobal\n",
        "*   Mejia Quinarez Luis Eduardo\n"
      ],
      "metadata": {
        "id": "gxC2-YFBtHw_"
      }
    },
    {
      "cell_type": "markdown",
      "source": [
        "**Sea la función $f(x)=x^{4} + 2x^{2} -x -3$**"
      ],
      "metadata": {
        "id": "v9KeCg6KtWX4"
      }
    },
    {
      "cell_type": "code",
      "source": [
        "def FixPoint(g,x0,Tol=0.0001,N=100):\n",
        "    n=1\n",
        "    while n<=N:\n",
        "        x1=g(x0)\n",
        "        print(\"iteración numero \" + str(n) + \" resultado= \"+ str(x1))\n",
        "        print(\"Distancia |x_k - x_k-1|: \" + str(abs(x1-x0)))\n",
        "        if abs(x1-x0)<=Tol:\n",
        "            print(f\"EL punto fijo es {x1}\")\n",
        "            return x1\n",
        "        x0=x1\n",
        "        n+=1\n",
        "    else:\n",
        "        print(f\"Una aproximación del punto fijo es {x1}\")\n",
        "        return x1\n",
        "\n",
        "\n",
        "\n"
      ],
      "metadata": {
        "id": "T7_FqKKzvEJF"
      },
      "execution_count": 7,
      "outputs": []
    },
    {
      "cell_type": "markdown",
      "source": [
        "**a) Manipulando la función $f$ da dos versiones de ella de tal forma que se pueda ver como $f(x)=g_{i}(x) -x$ de punto fijo para $i=1,2$**"
      ],
      "metadata": {
        "id": "advk4y05tsAm"
      }
    },
    {
      "cell_type": "markdown",
      "source": [
        "*$f(x)=g_{1}-x=\\sqrt{ \\frac{x+3-x^{4}}{2}} -x$*\n",
        "\n",
        "*$f(x)=g_{2}-x=\\sqrt[4]{ x+3-x^{4}} -x$*"
      ],
      "metadata": {
        "id": "zCOCMfs0uSxU"
      }
    },
    {
      "cell_type": "markdown",
      "source": [
        "**b) De cada una de la iteraciones realizar 4 iteraciones del método de Punto Fijo con $x_{0}=1$.**"
      ],
      "metadata": {
        "id": "j56lTW57vinb"
      }
    },
    {
      "cell_type": "code",
      "source": [
        "g_1= lambda x: ((x + 3 - (x**4))/2.0)**(0.5)\n",
        "\n",
        "FP=FixPoint(g_1,1.0,0.00001,5)"
      ],
      "metadata": {
        "colab": {
          "base_uri": "https://localhost:8080/"
        },
        "id": "6kpX9Wy0vJZq",
        "outputId": "94aca664-286c-43b3-9c0e-6a22d8a19ca8"
      },
      "execution_count": 8,
      "outputs": [
        {
          "output_type": "stream",
          "name": "stdout",
          "text": [
            "iteración numero 1 resultado= 1.224744871391589\n",
            "Distancia |x_k - x_k-1|: 0.22474487139158894\n",
            "iteración numero 2 resultado= 0.9936661590774817\n",
            "Distancia |x_k - x_k-1|: 0.23107871231410726\n",
            "iteración numero 3 resultado= 1.228568645274987\n",
            "Distancia |x_k - x_k-1|: 0.23490248619750542\n",
            "iteración numero 4 resultado= 0.9875064291508866\n",
            "Distancia |x_k - x_k-1|: 0.2410622161241005\n",
            "iteración numero 5 resultado= 1.2321834183188063\n",
            "Distancia |x_k - x_k-1|: 0.2446769891679197\n",
            "Una aproximación del punto fijo es 1.2321834183188063\n"
          ]
        }
      ]
    },
    {
      "cell_type": "code",
      "source": [
        "g_2=lambda x: (x + 3 - 2*(x**2))**(1/4)\n",
        "\n",
        "FP=FixPoint(g_2,1.0,0.00001,5)"
      ],
      "metadata": {
        "colab": {
          "base_uri": "https://localhost:8080/"
        },
        "id": "MT2-zws-wEnB",
        "outputId": "6ae0ffe6-3fd4-41ed-aa69-dfd010ac1b2d"
      },
      "execution_count": 9,
      "outputs": [
        {
          "output_type": "stream",
          "name": "stdout",
          "text": [
            "iteración numero 1 resultado= 1.189207115002721\n",
            "Distancia |x_k - x_k-1|: 0.18920711500272103\n",
            "iteración numero 2 resultado= 1.0800577526675623\n",
            "Distancia |x_k - x_k-1|: 0.1091493623351587\n",
            "iteración numero 3 resultado= 1.1496714305893827\n",
            "Distancia |x_k - x_k-1|: 0.06961367792182038\n",
            "iteración numero 4 resultado= 1.1078205295102599\n",
            "Distancia |x_k - x_k-1|: 0.041850901079122815\n",
            "iteración numero 5 resultado= 1.1339322845047308\n",
            "Distancia |x_k - x_k-1|: 0.026111754994470937\n",
            "Una aproximación del punto fijo es 1.1339322845047308\n"
          ]
        }
      ]
    }
  ]
}