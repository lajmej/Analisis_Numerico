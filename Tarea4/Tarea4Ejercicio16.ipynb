{
  "nbformat": 4,
  "nbformat_minor": 0,
  "metadata": {
    "colab": {
      "provenance": [],
      "authorship_tag": "ABX9TyNnLpnPemcvP5Z47G0lws6l",
      "include_colab_link": true
    },
    "kernelspec": {
      "name": "python3",
      "display_name": "Python 3"
    },
    "language_info": {
      "name": "python"
    }
  },
  "cells": [
    {
      "cell_type": "markdown",
      "metadata": {
        "id": "view-in-github",
        "colab_type": "text"
      },
      "source": [
        "<a href=\"https://colab.research.google.com/github/lajmej/Analisis_Numerico/blob/main/Tarea4/Tarea4Ejercicio16.ipynb\" target=\"_parent\"><img src=\"https://colab.research.google.com/assets/colab-badge.svg\" alt=\"Open In Colab\"/></a>"
      ]
    },
    {
      "cell_type": "markdown",
      "source": [
        "#Ejercicio 16\n",
        "\n",
        "**Integrantes:**\n",
        "\n",
        "\n",
        "\n",
        "*   De la Luz Cristobal\n",
        "*   Mejia Quinarez Luis Eduardo\n",
        "\n"
      ],
      "metadata": {
        "id": "s707HKjp3Ow9"
      }
    },
    {
      "cell_type": "markdown",
      "source": [
        "\n",
        "\n",
        "16.   Para la función del ejercicio 8 resolverlo por la iteración de punto fijo\n",
        "\n"
      ],
      "metadata": {
        "id": "QkaMGcQw3o3S"
      }
    },
    {
      "cell_type": "code",
      "source": [
        "#Importamos el paquete math\n",
        "import math\n",
        "#Primero definimos la función a usar\n",
        "\n",
        "def f(x):\n",
        "\treturn ((x**2) -6 + (x**3))/(x**2)\n",
        "\n",
        "#Definimos un punto donde empieza el algoritmo\n",
        "\n",
        "punto=4.0\n",
        "\n",
        "#Definimos un punto auxiliar\n",
        "\n",
        "punto_aux=0\n",
        "\n",
        "#k que marque el número de iteraciones\n",
        "\n",
        "k=0\n",
        "#intermax\n",
        "\n",
        "intermax=100\n",
        "\n",
        "#definimos en bucle while que realizara la iteraciones.\n",
        "\n",
        "while(abs(punto - punto_aux)>(10**-10) and intermax>k):\n",
        "\tpunto_aux=punto\n",
        "\tpunto=f(punto)\n",
        "\tk+=1\n",
        "\n",
        "\n",
        "\n",
        "print(\"punto= \"+str(punto))\n",
        "print(\"Numero de iteraciones= \" + str(k))\n",
        "\n",
        "f=lambda x:((x**2) -6 + (x**3))/(x**2)\n",
        "\n",
        "#funcion construida.\n",
        "\n",
        "def punto_fijo(Tol,N,f,punto):\n",
        "\tpunto_aux=0\n",
        "\tintermax=N\n",
        "\tk=0\n",
        "\twhile(abs(punto - punto_aux)>(Tol) and intermax>k):\n",
        "\t\tpunto_aux=punto\n",
        "\t\tpunto=f(punto)\n",
        "\t\tk+=1\n",
        "\tif (abs(punto_aux-punto)<Tol):\n",
        "\t\tprint(\"raizes= \"+str(abs(punto)) + \", \" + str(-1*abs(punto)))\n",
        "\t\tprint(\"Numero de iteraciones= \" + str(k))\n",
        "\telse:\n",
        "\t\tprint(\"Raizes no encontradas\")\n"
      ],
      "metadata": {
        "colab": {
          "base_uri": "https://localhost:8080/"
        },
        "id": "Cph0Xz3N3bV4",
        "outputId": "1f1b251d-3669-46e9-adaf-3ad7bbf717e7"
      },
      "execution_count": 1,
      "outputs": [
        {
          "output_type": "stream",
          "name": "stdout",
          "text": [
            "punto= 102.06710053889677\n",
            "Numero de iteraciones= 100\n"
          ]
        }
      ]
    },
    {
      "cell_type": "code",
      "source": [
        "r=punto_fijo(10**-10,100,f,-4.0)"
      ],
      "metadata": {
        "colab": {
          "base_uri": "https://localhost:8080/"
        },
        "id": "Uy5ln94hPCaS",
        "outputId": "d664d952-76a5-4ecc-f31f-aa3987879b85"
      },
      "execution_count": 2,
      "outputs": [
        {
          "output_type": "stream",
          "name": "stdout",
          "text": [
            "raizes= 2.449489742796276, -2.449489742796276\n",
            "Numero de iteraciones= 17\n"
          ]
        }
      ]
    }
  ]
}