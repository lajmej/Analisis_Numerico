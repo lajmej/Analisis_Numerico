{
  "nbformat": 4,
  "nbformat_minor": 0,
  "metadata": {
    "colab": {
      "provenance": [],
      "authorship_tag": "ABX9TyNvI5t8sDU3i3gXzOsuNSOq",
      "include_colab_link": true
    },
    "kernelspec": {
      "name": "python3",
      "display_name": "Python 3"
    },
    "language_info": {
      "name": "python"
    }
  },
  "cells": [
    {
      "cell_type": "markdown",
      "metadata": {
        "id": "view-in-github",
        "colab_type": "text"
      },
      "source": [
        "<a href=\"https://colab.research.google.com/github/lajmej/Analisis_Numerico/blob/main/Tarea4/Tarea4Ejercicio8.ipynb\" target=\"_parent\"><img src=\"https://colab.research.google.com/assets/colab-badge.svg\" alt=\"Open In Colab\"/></a>"
      ]
    },
    {
      "cell_type": "markdown",
      "source": [
        "#Ejercicio 8\n",
        "\n",
        "**Integrantes:**\n",
        "\n",
        "\n",
        "\n",
        "*   De la Luz Siles Cristobal\n",
        "*   Mejia Quinarez Luis Eduardo\n"
      ],
      "metadata": {
        "id": "V3TitkSC0wZB"
      }
    },
    {
      "cell_type": "markdown",
      "source": [
        "**Mostrar las primeras cinco iteraciones del Método de Newton para hallar el cero de $f(x)=x^{2}-6$ con $x_{0}=1$.**"
      ],
      "metadata": {
        "id": "0B0b040N03A4"
      }
    },
    {
      "cell_type": "code",
      "source": [
        "def Newton(f,df,Tol,N,x0):\n",
        "  Iter=0\n",
        "\n",
        "  while Iter<=N:\n",
        "    fx=f(x0)\n",
        "    dfx=df(x0)\n",
        "\n",
        "    xn = x0 - (fx/float(dfx))\n",
        "\n",
        "    print(\"Iteración número \" + str(Iter+1) + \", resultado= \"  + str(xn))\n",
        "    if abs(f(xn))<=Tol and abs(xn-x0)<=Tol:\n",
        "      print(\"Tu raiz es \"+str(xn))\n",
        "      return xn\n",
        "\n",
        "    x0=xn\n",
        "\n",
        "    Iter+=1\n",
        "\n",
        "  else:\n",
        "    print(\"El valor aproximado de tu raiz es \"+str(xn))"
      ],
      "metadata": {
        "id": "LmRly3zP0von"
      },
      "execution_count": null,
      "outputs": []
    },
    {
      "cell_type": "code",
      "execution_count": null,
      "metadata": {
        "colab": {
          "base_uri": "https://localhost:8080/"
        },
        "id": "lNNCaM9B0pge",
        "outputId": "def3d67b-5b54-4978-c839-f6318f5f4024"
      },
      "outputs": [
        {
          "output_type": "stream",
          "name": "stdout",
          "text": [
            "Iteración número 1, resultado= 3.5\n",
            "Iteración número 2, resultado= 2.607142857142857\n",
            "Iteración número 3, resultado= 2.454256360078278\n",
            "Iteración número 4, resultado= 2.4494943716069653\n",
            "Iteración número 5, resultado= 2.4494897427875517\n",
            "El valor aproximado de tu raiz es 2.4494897427875517\n"
          ]
        }
      ],
      "source": [
        "f=lambda x: (x**2) -6\n",
        "\n",
        "df=lambda x: 2*x\n",
        "\n",
        "FB=Newton(f,df,0.000001,4,1)"
      ]
    },
    {
      "cell_type": "markdown",
      "source": [
        "*   **Tolerancia=** *$\\frac{1}{100000}$*\n",
        "*   **Número de iteraciones=** *$100$*\n",
        "*   **$f(x)=x^{2} -6$**\n",
        "*   **$f^{'}(x)=2x$**\n",
        "\n",
        "\n",
        "*Primera iteración: iteracion=1*\n",
        "\n",
        "**$x_{0}$=1**\n",
        "\n",
        "---\n",
        "\n",
        "\n",
        "**Mientras $iteracion=1 \\leq 100$:**\n",
        "\n",
        "**$f(x_{0})=-5$**\n",
        "\n",
        "**$f^{'}(x_{0})=2$**\n",
        "\n",
        "**$x_{1}=x_{0}-\\frac{f(x_{0})}{f^{'}(x_{0})}=3.5$**\n",
        "\n",
        "**Si $|f(x_{1})|=6.25\\leq \\frac{1}{1000}$ y $|x_{1}-x_{0}|=2.5\\leq \\frac{1}{1000}$**\n",
        "\n",
        "**entonces regresa: $x_{1}=1.5,$**\n",
        "**pero no se cumple.**\n",
        "\n",
        "\n",
        "**$x_{0}=x_{1}$**\n",
        "\n",
        "**$iteracion=iterancion+1=2$**\n",
        "\n",
        "*Segunda iteración: iteracion=2*\n",
        "\n",
        "**$x_{0}$=3.5**\n",
        "\n",
        "---\n",
        "\n",
        "\n",
        "**Mientras $iteracion=2 \\leq 100$:**\n",
        "\n",
        "**$f(x_{0})=6.26$**\n",
        "\n",
        "**$f^{'}(x_{0})=7.0$**\n",
        "\n",
        "**$x_{1}=x_{0}-\\frac{f(x_{0})}{f^{'}(x_{0})}=3.5$**\n",
        "\n",
        "**Si $|f(x_{1})|=0.79719\\leq \\frac{1}{1000}$ y $|x_{1}-x_{0}|=0.8928\\leq \\frac{1}{1000}$**\n",
        "\n",
        "**entonces regresa: $x_{1}=3.5,$**\n",
        "**pero no se cumple.**\n",
        "\n",
        "\n",
        "**$x_{0}=x_{1}$**\n",
        "\n",
        "**$iteracion=iterancion+1=3$**\n",
        "\n",
        "*Tercera iteración: iteracion=3*\n",
        "\n",
        "**$x_{0}$=2.6071**\n",
        "\n",
        "---\n",
        "\n",
        "\n",
        "**Mientras $iteracion=3 \\leq 100$:**\n",
        "\n",
        "**$f(x_{0})=0.7971$**\n",
        "\n",
        "**$f^{'}(x_{0})=5.21428$**\n",
        "\n",
        "**$x_{1}=x_{0}-\\frac{f(x_{0})}{f^{'}(x_{0})}=2.4542$**\n",
        "\n",
        "**Si $|f(x_{1})|=0.023374\\leq \\frac{1}{1000}$ y $|x_{1}-x_{0}|=0.1528\\leq \\frac{1}{1000}$**\n",
        "\n",
        "**entonces regresa: $x_{1}=2.4542,$**\n",
        "**pero no se cumple.**\n",
        "\n",
        "\n",
        "**$x_{0}=x_{1}$**\n",
        "\n",
        "**$iteracion=iterancion+1=4$**\n",
        "\n",
        "*Cuarta iteración: iteracion=4*\n",
        "\n",
        "**$x_{0}$=2.4542**\n",
        "\n",
        "---\n",
        "\n",
        "\n",
        "**Mientras $iteracion=4 \\leq 100$:**\n",
        "\n",
        "**$f(x_{0})=0.0233$**\n",
        "\n",
        "**$f^{'}(x_{0})=4.9085$**\n",
        "\n",
        "**$x_{1}=x_{0}-\\frac{f(x_{0})}{f^{'}(x_{0})}=2.4494$**\n",
        "\n",
        "**Si $|f(x_{1})|=2.2676\\leq \\frac{1}{1000}$ y $|x_{1}-x_{0}|=0.0047\\leq \\frac{1}{1000}$**\n",
        "\n",
        "**entonces regresa: $x_{1}=2.4494,$**\n",
        "**pero no se cumple.**\n",
        "\n",
        "\n",
        "**$x_{0}=x_{1}$**\n",
        "\n",
        "**$iteracion=iterancion+1=5$**\n",
        "\n",
        "*Quinta iteración: iteracion=5*\n",
        "\n",
        "**$x_{0}$=2.4494943716069653**\n",
        "\n",
        "---\n",
        "\n",
        "\n",
        "**Mientras $iteracion=5 \\leq 100$:**\n",
        "\n",
        "**$f(x_{0})=2.2676534201515608e-05$**\n",
        "\n",
        "**$f^{'}(x_{0})=4.8989887432139305$**\n",
        "\n",
        "**$x_{1}=x_{0}-\\frac{f(x_{0})}{f^{'}(x_{0})}=2.4494897427875517$**\n",
        "\n",
        "**Si $|f(x_{1})|=2.142641619684582e-11\\leq \\frac{1}{1000}$ y $|x_{1}-x_{0}|=4.628819413543539e-06\\leq \\frac{1}{1000}$**\n",
        "\n",
        "**entonces regresa: $x_{1}=2.4494,$**\n",
        "**Se cumple.**\n",
        "\n",
        "**Se regresa $x_{1}$**\n"
      ],
      "metadata": {
        "id": "iqxv3dG1_a2O"
      }
    }
  ]
}