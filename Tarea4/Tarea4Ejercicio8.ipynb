{
  "nbformat": 4,
  "nbformat_minor": 0,
  "metadata": {
    "colab": {
      "provenance": [],
      "authorship_tag": "ABX9TyMnAC79iPL1vQftq5NSfbf2",
      "include_colab_link": true
    },
    "kernelspec": {
      "name": "python3",
      "display_name": "Python 3"
    },
    "language_info": {
      "name": "python"
    }
  },
  "cells": [
    {
      "cell_type": "markdown",
      "metadata": {
        "id": "view-in-github",
        "colab_type": "text"
      },
      "source": [
        "<a href=\"https://colab.research.google.com/github/lajmej/Analisis_Numerico/blob/main/Tarea4/Tarea4Ejercicio8.ipynb\" target=\"_parent\"><img src=\"https://colab.research.google.com/assets/colab-badge.svg\" alt=\"Open In Colab\"/></a>"
      ]
    },
    {
      "cell_type": "markdown",
      "source": [
        "#Ejercicio 8\n",
        "\n",
        "**Integrantes:**\n",
        "\n",
        "\n",
        "\n",
        "*   De la Luz Siles Cristobal\n",
        "*   Mejia Quinarez Luis Eduardo\n"
      ],
      "metadata": {
        "id": "V3TitkSC0wZB"
      }
    },
    {
      "cell_type": "markdown",
      "source": [
        "**Mostrar las primeras cinco iteraciones del Método de Newton para hallar el cero de $f(x)=x^{2}-6$ con $x_{0}=1$.**"
      ],
      "metadata": {
        "id": "0B0b040N03A4"
      }
    },
    {
      "cell_type": "code",
      "source": [
        "def Newton(f,df,Tol,N,x0):\n",
        "  Iter=0\n",
        "\n",
        "  while Iter<=N:\n",
        "    fx=f(x0)\n",
        "    dfx=df(x0)\n",
        "\n",
        "    xn = x0 - (fx/float(dfx))\n",
        "\n",
        "    print(\"Iteración número \" + str(Iter+1) + \", resultado= \"  + str(xn))\n",
        "    if abs(f(xn))<=Tol and abs(xn-x0)<=Tol:\n",
        "      print(\"Tu raiz es \"+str(xn))\n",
        "      return xn\n",
        "\n",
        "    x0=xn\n",
        "\n",
        "    Iter+=1\n",
        "\n",
        "  else:\n",
        "    print(\"El valor aproximado de tu raiz es \"+str(xn))"
      ],
      "metadata": {
        "id": "LmRly3zP0von"
      },
      "execution_count": 4,
      "outputs": []
    },
    {
      "cell_type": "code",
      "execution_count": 5,
      "metadata": {
        "colab": {
          "base_uri": "https://localhost:8080/"
        },
        "id": "lNNCaM9B0pge",
        "outputId": "def3d67b-5b54-4978-c839-f6318f5f4024"
      },
      "outputs": [
        {
          "output_type": "stream",
          "name": "stdout",
          "text": [
            "Iteración número 1, resultado= 3.5\n",
            "Iteración número 2, resultado= 2.607142857142857\n",
            "Iteración número 3, resultado= 2.454256360078278\n",
            "Iteración número 4, resultado= 2.4494943716069653\n",
            "Iteración número 5, resultado= 2.4494897427875517\n",
            "El valor aproximado de tu raiz es 2.4494897427875517\n"
          ]
        }
      ],
      "source": [
        "f=lambda x: (x**2) -6\n",
        "\n",
        "df=lambda x: 2*x\n",
        "\n",
        "FB=Newton(f,df,0.000001,4,1)"
      ]
    }
  ]
}