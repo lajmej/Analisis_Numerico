{
  "nbformat": 4,
  "nbformat_minor": 0,
  "metadata": {
    "colab": {
      "provenance": [],
      "authorship_tag": "ABX9TyOy5N03iXG7ywDGH3f5ls9U",
      "include_colab_link": true
    },
    "kernelspec": {
      "name": "python3",
      "display_name": "Python 3"
    },
    "language_info": {
      "name": "python"
    }
  },
  "cells": [
    {
      "cell_type": "markdown",
      "metadata": {
        "id": "view-in-github",
        "colab_type": "text"
      },
      "source": [
        "<a href=\"https://colab.research.google.com/github/lajmej/Analisis_Numerico/blob/main/Tarea4/Tarea4Ejercicio12bueno.ipynb\" target=\"_parent\"><img src=\"https://colab.research.google.com/assets/colab-badge.svg\" alt=\"Open In Colab\"/></a>"
      ]
    },
    {
      "cell_type": "markdown",
      "source": [
        "# Ejercicio 12\n",
        "\n",
        "**Integrantes:**\n",
        "\n",
        "\n",
        "\n",
        "*   De la Luz Cristobal\n",
        "*   Mejia Quinarez Luis Eduardo\n",
        "\n"
      ],
      "metadata": {
        "id": "WI66zthgxakE"
      }
    },
    {
      "cell_type": "markdown",
      "source": [
        "\n",
        "\n",
        "12.    **El siguiente polinomio, $P(x)=230x^{4}+18x^{3}+9x^{2}-221x-9$, tiene dos ceros, uno en $[-1,0]$ y otro en $[0,1]$, hallarlos con una tolerancia de $10^{-6}$ para: **\n",
        "\n",
        "\n",
        "\n",
        "*   a) Método de Secante\n",
        "*   b) Método de Newton\n",
        "*   c) Método de regla falsa\n",
        "\n",
        "\n",
        "\n",
        "\n",
        "\n"
      ],
      "metadata": {
        "id": "TNJNYRv-xpdC"
      }
    },
    {
      "cell_type": "markdown",
      "source": [
        "# **Secante**"
      ],
      "metadata": {
        "id": "OlTvqKi1y3zh"
      }
    },
    {
      "cell_type": "code",
      "source": [
        "def Secante(Tol, N, f, a, b):\n",
        "    # N es el número máximo de iteraciones permitidas\n",
        "    # Tol es la tolerancia permitida para el error\n",
        "    # f es la función de la cual se quiere encontrar las raíces\n",
        "    # a es el extremo izquierdo del intervalo inicial\n",
        "    # b es el extremo derecho del intervalo inicial\n",
        "\n",
        "    fa, fb = f(a), f(b)  # Evaluar la función en los extremos del intervalo\n",
        "    if fa * fb > 0.0:  # Verificar si hay un cambio de signo en el intervalo\n",
        "        print(\"No tiene raíces en el intervalo\")\n",
        "        return  # Salir de la función si no hay cambio de signo\n",
        "\n",
        "    Iter = 0  # Inicializar el contador de iteraciones\n",
        "    x0 = a  # Inicializar x0 para la primera iteración\n",
        "\n",
        "    while Iter <= N:  # Iterar hasta alcanzar el máximo de iteraciones permitidas\n",
        "        fa, fb = f(a), f(b)  # Recalcular fa y fb en cada iteración\n",
        "        x1 = a - (fa * (b - a) / (fb - fa))  # Calcular el nuevo punto usando el método de la secante\n",
        "        fx1 = f(x1)  # Evaluar la función en el nuevo punto\n",
        "\n",
        "        # Verificar si el valor absoluto de f(x1) es menor o igual que la tolerancia\n",
        "        # y si la diferencia entre x1 y x0 es menor o igual que la tolerancia\n",
        "        if abs(fx1) <= Tol and abs(x1 - x0) <= Tol:\n",
        "            print(\"Tu raíz es \" + str(x1))\n",
        "            return x1  # Retornar la raíz encontrada\n",
        "\n",
        "        # Actualizar los extremos del intervalo según el signo de f(x1)\n",
        "        if fa * fx1 < 0:\n",
        "            b = x1\n",
        "        else:\n",
        "            a = x1\n",
        "\n",
        "        x0 = x1  # Actualizar x0\n",
        "        Iter += 1  # Incrementar el contador de iteraciones\n",
        "\n",
        "    else:\n",
        "        print(\"El valor aproximado de tu raíz es \" + str(x1))\n",
        "        return x1  # Retornar el valor aproximado de la raíz al alcanzar el máximo de iteraciones\n"
      ],
      "metadata": {
        "id": "X9HkkjZaytge"
      },
      "execution_count": 24,
      "outputs": []
    },
    {
      "cell_type": "markdown",
      "source": [
        "# **Newton**"
      ],
      "metadata": {
        "id": "c8Rqezq4y79l"
      }
    },
    {
      "cell_type": "code",
      "source": [
        "def Newton(f, df, Tol, N, x0):\n",
        "    # f es la función de la cual se quiere encontrar la raíz\n",
        "    # df es la derivada de la función f\n",
        "    # Tol es la tolerancia permitida para el error\n",
        "    # N es el número máximo de iteraciones permitidas\n",
        "    # x0 es el valor inicial de la estimación de la raíz\n",
        "\n",
        "    Iter = 0  # Inicializar el contador de iteraciones\n",
        "\n",
        "    while Iter <= N:  # Iterar hasta alcanzar el máximo de iteraciones permitidas\n",
        "        fx = f(x0)  # Evaluar la función en x0\n",
        "        dfx = df(x0)  # Evaluar la derivada de la función en x0\n",
        "\n",
        "        xn = x0 - (fx / float(dfx))  # Calcular el siguiente valor usando el método de Newton-Raphson\n",
        "\n",
        "        # Verificar si el valor absoluto de f(xn) es menor o igual que la tolerancia\n",
        "        # y si la diferencia entre xn y x0 es menor o igual que la tolerancia\n",
        "        if abs(f(xn)) <= Tol and abs(xn - x0) <= Tol:\n",
        "            print(\"Tu raiz es \" + str(xn))  # Imprimir y retornar la raíz encontrada\n",
        "            return xn\n",
        "\n",
        "        x0 = xn  # Actualizar x0 al nuevo valor calculado\n",
        "\n",
        "        Iter += 1  # Incrementar el contador de iteraciones\n",
        "\n",
        "    else:\n",
        "        print(\"El valor aproximado de tu raiz es \" + str(xn))  # Imprimir el valor aproximado de la raíz\n",
        "        return xn  # Retornar el valor aproximado de la raíz al alcanzar el máximo de iteraciones\n"
      ],
      "metadata": {
        "id": "NU5UHkB3y_IV"
      },
      "execution_count": 23,
      "outputs": []
    },
    {
      "cell_type": "markdown",
      "source": [
        "# **Regla falsa**"
      ],
      "metadata": {
        "id": "f7l4qVqDzDa9"
      }
    },
    {
      "cell_type": "code",
      "source": [
        "def ReglaFalsa(Tol, N, f, a, b):\n",
        "    # N es el numero de iteraciones máximas permitidas\n",
        "    # Tol es la tolerancia permitida para el error\n",
        "    # f es la función de la cual se quiere encontrar las raíces\n",
        "    # a es el extremo izquierdo del intervalo inicial\n",
        "    # b es el extremo derecho del intervalo inicial\n",
        "\n",
        "    fa, fb = f(a), f(b)  # Evaluar la función en los extremos del intervalo\n",
        "    if fa * fb > 0.0:  # Verificar si hay un cambio de signo en el intervalo\n",
        "        print(\"No tiene raíces en el intervalo\")\n",
        "        return  # Salir de la función si no hay cambio de signo\n",
        "\n",
        "    x0 = 0.0  # Inicializar la variable x0\n",
        "    Iter = 0  # Inicializar el contador de iteraciones\n",
        "    while Iter <= N:  # Iterar hasta alcanzar el máximo de iteraciones permitidas\n",
        "        x1 = (a * fb - b * fa) / (fb - fa)  # Calcular el nuevo punto utilizando la Regla Falsa\n",
        "        fx1 = f(x1)  # Evaluar la función en el nuevo punto\n",
        "\n",
        "        # Verificar si el valor absoluto de f(x1) es menor o igual que la tolerancia\n",
        "        # y si la diferencia entre x1 y x0 es menor o igual que la tolerancia\n",
        "        if abs(fx1) <= Tol and abs(x1 - x0) <= Tol:\n",
        "            print(\"Tu raiz es \" + str(x1))\n",
        "            return x1  # Retornar la raíz encontrada\n",
        "\n",
        "        # Actualizar los extremos del intervalo\n",
        "        if fa * fx1 < 0:\n",
        "            b = x1\n",
        "            fb = fx1\n",
        "        else:\n",
        "            a = x1\n",
        "            fa = fx1\n",
        "\n",
        "        x0 = x1  # Actualizar x0\n",
        "        Iter += 1  # Incrementar el contador de iteraciones\n",
        "\n",
        "    else:\n",
        "        print(\"El valor aproximado de tu raiz es \" + str(x1))\n",
        "        return x1  # Retornar el valor aproximado de la raíz al alcanzar el máximo de iteraciones"
      ],
      "metadata": {
        "id": "QzDGKnnrzGVS"
      },
      "execution_count": 19,
      "outputs": []
    },
    {
      "cell_type": "code",
      "source": [
        "f=lambda x:230.0*(x**4)+18*(x**3)+9*(x**2)-221*x-9\n",
        "df=lambda x: 4*230.0*(x**3)+3*18*(x**2)+2*9*(x**1)-221"
      ],
      "metadata": {
        "id": "4uufOEdozNzr"
      },
      "execution_count": 5,
      "outputs": []
    },
    {
      "cell_type": "markdown",
      "source": [
        "# **Usando Secante**"
      ],
      "metadata": {
        "id": "RnpnNbhtzrW2"
      }
    },
    {
      "cell_type": "code",
      "source": [
        "print(\"En el intervalo [-1,0]\")\n",
        "Secante(0.000001,100,f,-1,0)\n",
        "print(\"En el intervalo [0,1]\")\n",
        "Secante(0.001,20,f,0,1)"
      ],
      "metadata": {
        "id": "VQRiPT-ezcLy",
        "outputId": "1b93537f-b747-45be-db64-d28baa8cabf0",
        "colab": {
          "base_uri": "https://localhost:8080/"
        }
      },
      "execution_count": 25,
      "outputs": [
        {
          "output_type": "stream",
          "name": "stdout",
          "text": [
            "En el intervalo [-1,0]\n",
            "Tu raíz es -0.04065928477092662\n",
            "En el intervalo [0,1]\n",
            "Tu raíz es 0.9623979388949123\n"
          ]
        },
        {
          "output_type": "execute_result",
          "data": {
            "text/plain": [
              "0.9623979388949123"
            ]
          },
          "metadata": {},
          "execution_count": 25
        }
      ]
    },
    {
      "cell_type": "markdown",
      "source": [
        "# **Usando Newton**"
      ],
      "metadata": {
        "id": "vZaKRlxd0DZX"
      }
    },
    {
      "cell_type": "code",
      "source": [
        "print(\"En el intervalo [-1,0]\")\n",
        "Newton(f,df,1E-6,100,-0.5)\n",
        "print(\"En el intervalo [0,1]\")\n",
        "Newton(f,df,1E-6,100,1)"
      ],
      "metadata": {
        "id": "3j-AuSQt0HFs",
        "outputId": "038465cc-6e28-4fd7-dfd9-46aa92dd7faa",
        "colab": {
          "base_uri": "https://localhost:8080/"
        }
      },
      "execution_count": 26,
      "outputs": [
        {
          "output_type": "stream",
          "name": "stdout",
          "text": [
            "En el intervalo [-1,0]\n",
            "Tu raiz es -0.04065928831575899\n",
            "En el intervalo [0,1]\n",
            "Tu raiz es 0.9623984187505414\n"
          ]
        },
        {
          "output_type": "execute_result",
          "data": {
            "text/plain": [
              "0.9623984187505414"
            ]
          },
          "metadata": {},
          "execution_count": 26
        }
      ]
    },
    {
      "cell_type": "markdown",
      "source": [
        "# **Usando Regla Falsa**"
      ],
      "metadata": {
        "id": "fJlUKcCj0anx"
      }
    },
    {
      "cell_type": "code",
      "source": [
        "print(\"En el intervalo [-1,0]\")\n",
        "ReglaFalsa(1E-6,100,f,-1,0)\n",
        "print(\"En el intervalo [0,-1]\")\n",
        "ReglaFalsa(1E-6,100,f,0,1)"
      ],
      "metadata": {
        "id": "irafhENo0kh1",
        "outputId": "22a32bbf-6791-4f57-ac84-f73c16a61b59",
        "colab": {
          "base_uri": "https://localhost:8080/"
        }
      },
      "execution_count": 27,
      "outputs": [
        {
          "output_type": "stream",
          "name": "stdout",
          "text": [
            "En el intervalo [-1,0]\n",
            "Tu raiz es -0.040659284770926674\n",
            "En el intervalo [0,-1]\n",
            "Tu raiz es 0.962398418572024\n"
          ]
        },
        {
          "output_type": "execute_result",
          "data": {
            "text/plain": [
              "0.962398418572024"
            ]
          },
          "metadata": {},
          "execution_count": 27
        }
      ]
    }
  ]
}