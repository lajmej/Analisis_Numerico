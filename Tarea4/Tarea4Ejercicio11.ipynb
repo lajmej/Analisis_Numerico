{
  "nbformat": 4,
  "nbformat_minor": 0,
  "metadata": {
    "colab": {
      "provenance": [],
      "authorship_tag": "ABX9TyOSvNdHhpN+dSJs9I1hTaDb",
      "include_colab_link": true
    },
    "kernelspec": {
      "name": "python3",
      "display_name": "Python 3"
    },
    "language_info": {
      "name": "python"
    }
  },
  "cells": [
    {
      "cell_type": "markdown",
      "metadata": {
        "id": "view-in-github",
        "colab_type": "text"
      },
      "source": [
        "<a href=\"https://colab.research.google.com/github/lajmej/Analisis_Numerico/blob/main/Tarea4/Tarea4Ejercicio11.ipynb\" target=\"_parent\"><img src=\"https://colab.research.google.com/assets/colab-badge.svg\" alt=\"Open In Colab\"/></a>"
      ]
    },
    {
      "cell_type": "markdown",
      "source": [
        "# Ejercicio 11\n",
        "\n",
        "**Integrantes:**\n",
        "\n",
        "\n",
        "\n",
        "*   De la Luz Cristobal\n",
        "*   Mejia Quinarez Luis Eduardo\n",
        "\n"
      ],
      "metadata": {
        "id": "WI66zthgxakE"
      }
    },
    {
      "cell_type": "code",
      "source": [
        "#Ejercicio 11\n",
        "import numpy as np\n",
        "\n",
        "def regla_falsa(f, a, b, tol=1e-7, max_iter=1000):\n",
        "    if f(a) * f(b) >= 0:\n",
        "        raise ValueError(\"La función debe cambiar de signo en el intervalo [a, b]\")\n",
        "\n",
        "    for i in range(max_iter):\n",
        "        # Punto de la regla falsa\n",
        "        c = b - (f(b) * (b - a)) / (f(b) - f(a))\n",
        "        if f(c) == 0 or abs(b - a) < tol:\n",
        "            return c\n",
        "        elif f(a) * f(c) < 0:\n",
        "            b = c\n",
        "        else:\n",
        "            a = c\n",
        "    raise ValueError(\"Número máximo de iteraciones alcanzado. No se encontró solución.\")\n",
        "\n",
        "# Definición de las funciones\n",
        "def f1(x):\n",
        "    return np.exp(x) - 3 * x**2\n",
        "\n",
        "def f2(x):\n",
        "    return 2 * x * np.cos(2 * x) - (x - 2)**2\n",
        "\n",
        "def f3(x):\n",
        "    return np.exp(x) + 2**-x + 2 * np.cos(x) - 6\n",
        "\n",
        "# Resolver las ecuaciones en los intervalos especificados\n",
        "\n",
        "# a) f(x) = e^x - 3x^2 = 0\n",
        "# Intervalo [0, 1]\n",
        "sol_a1 = regla_falsa(f1, 0, 1)\n",
        "print(\"Solución a) en [0, 1]:\", sol_a1)\n",
        "\n",
        "# Intervalo [3, 5]\n",
        "sol_a2 = regla_falsa(f1, 3, 5)\n",
        "print(\"Solución a) en [3, 5]:\", sol_a2)\n",
        "\n",
        "# b) f(x) = 2x cos(2x) - (x - 2)^2 = 0\n",
        "# Intervalo [2, 3]\n",
        "sol_b1 = regla_falsa(f2, 2, 3)\n",
        "print(\"Solución b) en [2, 3]:\", sol_b1)\n",
        "\n",
        "# Intervalo [3, 4]\n",
        "sol_b2 = regla_falsa(f2, 3, 4)\n",
        "print(\"Solución b) en [3, 4]:\", sol_b2)\n",
        "\n",
        "# c) f(x) = e^x + 2^(-x) + 2 cos(x) - 6 = 0\n",
        "# Intervalo [1, 2]\n",
        "sol_c = regla_falsa(f3, 1, 2)\n",
        "print(\"Solución c) en [1, 2]:\", sol_c)\n"
      ],
      "metadata": {
        "colab": {
          "base_uri": "https://localhost:8080/",
          "height": 349
        },
        "id": "fNFaU_irBAYk",
        "outputId": "bf5864a3-17c3-4359-f447-0aec8ec5bee9"
      },
      "execution_count": null,
      "outputs": [
        {
          "output_type": "stream",
          "name": "stdout",
          "text": [
            "Solución a) en [0, 1]: 0.910007572488709\n"
          ]
        },
        {
          "output_type": "error",
          "ename": "ValueError",
          "evalue": "Número máximo de iteraciones alcanzado. No se encontró solución.",
          "traceback": [
            "\u001b[0;31m---------------------------------------------------------------------------\u001b[0m",
            "\u001b[0;31mValueError\u001b[0m                                Traceback (most recent call last)",
            "\u001b[0;32m<ipython-input-12-0d13102dfc68>\u001b[0m in \u001b[0;36m<cell line: 36>\u001b[0;34m()\u001b[0m\n\u001b[1;32m     34\u001b[0m \u001b[0;34m\u001b[0m\u001b[0m\n\u001b[1;32m     35\u001b[0m \u001b[0;31m# Intervalo [3, 5]\u001b[0m\u001b[0;34m\u001b[0m\u001b[0;34m\u001b[0m\u001b[0m\n\u001b[0;32m---> 36\u001b[0;31m \u001b[0msol_a2\u001b[0m \u001b[0;34m=\u001b[0m \u001b[0mregla_falsa\u001b[0m\u001b[0;34m(\u001b[0m\u001b[0mf1\u001b[0m\u001b[0;34m,\u001b[0m \u001b[0;36m3\u001b[0m\u001b[0;34m,\u001b[0m \u001b[0;36m5\u001b[0m\u001b[0;34m)\u001b[0m\u001b[0;34m\u001b[0m\u001b[0;34m\u001b[0m\u001b[0m\n\u001b[0m\u001b[1;32m     37\u001b[0m \u001b[0mprint\u001b[0m\u001b[0;34m(\u001b[0m\u001b[0;34m\"Solución a) en [3, 5]:\"\u001b[0m\u001b[0;34m,\u001b[0m \u001b[0msol_a2\u001b[0m\u001b[0;34m)\u001b[0m\u001b[0;34m\u001b[0m\u001b[0;34m\u001b[0m\u001b[0m\n\u001b[1;32m     38\u001b[0m \u001b[0;34m\u001b[0m\u001b[0m\n",
            "\u001b[0;32m<ipython-input-12-0d13102dfc68>\u001b[0m in \u001b[0;36mregla_falsa\u001b[0;34m(f, a, b, tol, max_iter)\u001b[0m\n\u001b[1;32m     14\u001b[0m         \u001b[0;32melse\u001b[0m\u001b[0;34m:\u001b[0m\u001b[0;34m\u001b[0m\u001b[0;34m\u001b[0m\u001b[0m\n\u001b[1;32m     15\u001b[0m             \u001b[0ma\u001b[0m \u001b[0;34m=\u001b[0m \u001b[0mc\u001b[0m\u001b[0;34m\u001b[0m\u001b[0;34m\u001b[0m\u001b[0m\n\u001b[0;32m---> 16\u001b[0;31m     \u001b[0;32mraise\u001b[0m \u001b[0mValueError\u001b[0m\u001b[0;34m(\u001b[0m\u001b[0;34m\"Número máximo de iteraciones alcanzado. No se encontró solución.\"\u001b[0m\u001b[0;34m)\u001b[0m\u001b[0;34m\u001b[0m\u001b[0;34m\u001b[0m\u001b[0m\n\u001b[0m\u001b[1;32m     17\u001b[0m \u001b[0;34m\u001b[0m\u001b[0m\n\u001b[1;32m     18\u001b[0m \u001b[0;31m# Definición de las funciones\u001b[0m\u001b[0;34m\u001b[0m\u001b[0;34m\u001b[0m\u001b[0m\n",
            "\u001b[0;31mValueError\u001b[0m: Número máximo de iteraciones alcanzado. No se encontró solución."
          ]
        }
      ]
    }
  ]
}