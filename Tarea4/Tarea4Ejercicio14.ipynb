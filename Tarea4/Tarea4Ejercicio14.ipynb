{
  "nbformat": 4,
  "nbformat_minor": 0,
  "metadata": {
    "colab": {
      "provenance": [],
      "authorship_tag": "ABX9TyMC39PRbXQTojXkT7hH9GFX",
      "include_colab_link": true
    },
    "kernelspec": {
      "name": "python3",
      "display_name": "Python 3"
    },
    "language_info": {
      "name": "python"
    }
  },
  "cells": [
    {
      "cell_type": "markdown",
      "metadata": {
        "id": "view-in-github",
        "colab_type": "text"
      },
      "source": [
        "<a href=\"https://colab.research.google.com/github/lajmej/Analisis_Numerico/blob/main/Tarea4/Tarea4Ejercicio14.ipynb\" target=\"_parent\"><img src=\"https://colab.research.google.com/assets/colab-badge.svg\" alt=\"Open In Colab\"/></a>"
      ]
    },
    {
      "cell_type": "markdown",
      "source": [
        "# Ejercicio 14\n",
        "\n",
        "**Integrantes**\n",
        "\n",
        "\n",
        "*   De la Luz Cristobal\n",
        "*   Mejia Quinarez Luis Eduardo\n",
        "\n"
      ],
      "metadata": {
        "id": "dGEf_s91z-BM"
      }
    },
    {
      "cell_type": "code",
      "execution_count": 10,
      "metadata": {
        "colab": {
          "base_uri": "https://localhost:8080/"
        },
        "id": "DzoQiWDidaVY",
        "outputId": "53e75008-a6ee-4759-e8d7-3568b727b593"
      },
      "outputs": [
        {
          "output_type": "stream",
          "name": "stdout",
          "text": [
            "Primera condición\n",
            "[1. 1.]\n",
            "Solución encontrada en 7 iteraciones.\n",
            "La solución es: [-0.95813171 -2.81304369]\n",
            "Segunda condición\n",
            "[0. 0.]\n",
            "No se encontró la solución después de 1000 iteraciones.\n",
            "La solución es: None\n",
            "Tercera condición\n",
            "[-1. -1.]\n",
            "Solución encontrada en 10 iteraciones.\n",
            "La solución es: [-0.95813171 -2.81304369]\n"
          ]
        },
        {
          "output_type": "stream",
          "name": "stderr",
          "text": [
            "<ipython-input-10-bc33a5d9553d>:13: RuntimeWarning: divide by zero encountered in scalar divide\n",
            "  J = np.array([[1-(0.27/(x[0]**2)), 1.31*math.sin(x[1])],\n",
            "<ipython-input-10-bc33a5d9553d>:14: RuntimeWarning: divide by zero encountered in scalar divide\n",
            "  [(-0.405/(x[0]**2)), -1.31*math.cos(x[1])]])\n",
            "<ipython-input-10-bc33a5d9553d>:7: RuntimeWarning: divide by zero encountered in scalar divide\n",
            "  f1 = x[0]+(0.27/x[0])-1.31*math.cos(x[1])\n",
            "<ipython-input-10-bc33a5d9553d>:8: RuntimeWarning: divide by zero encountered in scalar divide\n",
            "  f2 = (0.405/x[0])-1.31*math.sin(x[1])\n"
          ]
        }
      ],
      "source": [
        "#Resolver el sistema de ecuaciones:\n",
        "import math\n",
        "import numpy as np\n",
        "\n",
        "def f(x):\n",
        "    # Define las funciones del sistema de ecuaciones\n",
        "    f1 = x[0]+(0.27/x[0])-1.31*math.cos(x[1])\n",
        "    f2 = (0.405/x[0])-1.31*math.sin(x[1])\n",
        "    return np.array([f1, f2])\n",
        "\n",
        "def jacobian(x):\n",
        "    # Calcula la matriz jacobiana del sistema de ecuaciones\n",
        "    J = np.array([[1-(0.27/(x[0]**2)), 1.31*math.sin(x[1])],\n",
        "                  [(-0.405/(x[0]**2)), -1.31*math.cos(x[1])]])\n",
        "    return J\n",
        "\n",
        "def newton_system(f, jacobian, x0, tol=1e-6, max_iter=1000):\n",
        "    # Implementa el método de Newton para sistemas de ecuaciones\n",
        "    x = x0\n",
        "    for i in range(max_iter):\n",
        "        dx = np.linalg.solve(jacobian(x), f(x))\n",
        "        x = x - dx\n",
        "        if np.linalg.norm(dx) < tol:\n",
        "            print(f'Solución encontrada en {i+1} iteraciones.')\n",
        "            return x\n",
        "    print(\"No se encontró la solución después de\", max_iter, \"iteraciones.\")\n",
        "    return None\n",
        "\n",
        "# Punto inicial\n",
        "#Primera condicón\n",
        "x0 = np.array([1.0, 1.0])\n",
        "print(\"Primera condición\")\n",
        "print(x0)\n",
        "# Resuelve el sistema de ecuaciones\n",
        "sol = newton_system(f, jacobian, x0)\n",
        "print(\"La solución es:\", sol)\n",
        "\n",
        "#Segunda condicón\n",
        "x0 = np.array([0.0, 0.0])\n",
        "print(\"Segunda condición\")\n",
        "print(x0)\n",
        "# Resuelve el sistema de ecuaciones\n",
        "sol = newton_system(f, jacobian, x0)\n",
        "print(\"La solución es:\", sol)\n",
        "\n",
        "#Tercera condicón\n",
        "x0 = np.array([-1.0, -1.0])\n",
        "print(\"Tercera condición\")\n",
        "print(x0)\n",
        "# Resuelve el sistema de ecuaciones\n",
        "sol = newton_system(f, jacobian, x0)\n",
        "print(\"La solución es:\", sol)"
      ]
    },
    {
      "cell_type": "code",
      "source": [
        "import math\n",
        "u=-0.95813171\n",
        "o=-2.81304369\n",
        "\n",
        "primera=u+(0.23/u)-1.31*math.cos(o)\n",
        "print(primera)\n",
        "segunda=(0.405/u)-1.31*math.sin(o)\n",
        "print(segunda)"
      ],
      "metadata": {
        "id": "iZpUyWMF5AXb",
        "outputId": "1014786d-a31f-4af1-97ec-625391750c6e",
        "colab": {
          "base_uri": "https://localhost:8080/"
        }
      },
      "execution_count": 11,
      "outputs": [
        {
          "output_type": "stream",
          "name": "stdout",
          "text": [
            "0.04174791067638606\n",
            "2.2456090875699886e-09\n"
          ]
        }
      ]
    }
  ]
}