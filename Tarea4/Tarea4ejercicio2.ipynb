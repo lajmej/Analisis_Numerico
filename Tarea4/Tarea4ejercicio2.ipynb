{
  "nbformat": 4,
  "nbformat_minor": 0,
  "metadata": {
    "colab": {
      "provenance": [],
      "authorship_tag": "ABX9TyO9657WFGdM5tJTBaJGoDv3",
      "include_colab_link": true
    },
    "kernelspec": {
      "name": "python3",
      "display_name": "Python 3"
    },
    "language_info": {
      "name": "python"
    }
  },
  "cells": [
    {
      "cell_type": "markdown",
      "metadata": {
        "id": "view-in-github",
        "colab_type": "text"
      },
      "source": [
        "<a href=\"https://colab.research.google.com/github/lajmej/Analisis_Numerico/blob/main/Tarea4/Tarea4ejercicio2.ipynb\" target=\"_parent\"><img src=\"https://colab.research.google.com/assets/colab-badge.svg\" alt=\"Open In Colab\"/></a>"
      ]
    },
    {
      "cell_type": "markdown",
      "source": [
        "# Ejercicio 2\n",
        "**Integrantes**\n",
        "\n",
        "*   De la Luz Cristobal\n",
        "*   Mejia Quinarez Luis Eduardo\n",
        "\n"
      ],
      "metadata": {
        "id": "rFq388HEvZ-y"
      }
    },
    {
      "cell_type": "markdown",
      "source": [
        "\n",
        "2.   **Usar el Método de Bisección (programado) para encontrar la solución de las siguiente funciones con una tolerancia de $10^{-5}$**\n",
        "\n"
      ],
      "metadata": {
        "id": "7J4xfVAZvpTF"
      }
    },
    {
      "cell_type": "markdown",
      "source": [
        "\n",
        "\n",
        "*   **a) $f(x)=x-2^{-x}$, para $0 \\leq x \\leq 1$**\n",
        "\n"
      ],
      "metadata": {
        "id": "j_0Njl-LwjxY"
      }
    },
    {
      "cell_type": "code",
      "source": [
        "#Importamos el paquete math\n",
        "import math\n",
        "#Primero definimos la función a usar\n",
        "def funcion_uno(a):\n",
        "\tresultado=a-pow(2,a*-1)\n",
        "\treturn resultado\n",
        "#Definimos dos puntos en x tales que f(a)*f(b)<0\n",
        "a=0.0\n",
        "\n",
        "b=1.0\n",
        "#definimos la distancia entre los dos puntos en x\n",
        "c=abs(b-a)\n",
        "#definimos la tolerancia\n",
        "tolerancia=pow(10,-8)\n",
        "\n",
        "#Definomos un contador para contar las iteraciones\n",
        "contar=0\n",
        "#definimos en bucle while que realizara la iteraciones.\n",
        "while(c>tolerancia):\n",
        "\tm=a+(b-a)/2\n",
        "\tif(funcion_uno(a)*funcion_uno(m)<0):\n",
        "\t\tb=m\n",
        "\telse:\n",
        "\t\ta=m\n",
        "\tc=abs(b-a)\n",
        "\n",
        "\tcontar+=1\n",
        "#Regresamos los resultados\n",
        "print(\"Inciso a)\")\n",
        "print(\"b: \"+ str(b))\n",
        "print(\"a: \"+str(a))\n",
        "print(\"Iteraciones: \"str(contar))"
      ],
      "metadata": {
        "colab": {
          "base_uri": "https://localhost:8080/"
        },
        "id": "Eaet8Jzaw-O3",
        "outputId": "246db3dc-34c5-406f-b9ab-86740456e375"
      },
      "execution_count": 3,
      "outputs": [
        {
          "output_type": "stream",
          "name": "stdout",
          "text": [
            "Inciso a)\n",
            "b: 0.6411857455968857\n",
            "a: 0.6411857381463051\n",
            "27\n"
          ]
        }
      ]
    },
    {
      "cell_type": "markdown",
      "source": [
        "\n",
        "\n",
        "*   **b) $f(x)=e^{x}-x^{2}+3x-2$, para $0 \\leq x \\leq 1$**\n",
        "\n"
      ],
      "metadata": {
        "id": "d1ZvxeybyUhx"
      }
    },
    {
      "cell_type": "code",
      "source": [
        "print(\"Inciso b)\")\n",
        "\n",
        "#Definimos dos puntos en x tales que f(a)*f(b)<0\n",
        "a=0.0\n",
        "\n",
        "b=1.0\n",
        "#definimos la distancia entre los dos puntos en x\n",
        "c=abs(b-a)\n",
        "#definimos la tolerancia\n",
        "tolerancia=pow(10,-8)\n",
        "#Primero definimos la función a usar\n",
        "def funcion_dos(a):\n",
        "\treturn math.exp(a)-a**2+3*a-2\n",
        "#Definomos un contador para contar las iteraciones\n",
        "contar=0\n",
        "#definimos en bucle while que realizara la iteraciones.\n",
        "while(c>tolerancia):\n",
        "\tm=a+(b-a)/2\n",
        "\tif(funcion_dos(a)*funcion_dos(m)<0):\n",
        "\t\tb=m\n",
        "\telse:\n",
        "\t\ta=m\n",
        "\tc=abs(b-a)\n",
        "\n",
        "\tcontar+=1\n",
        "\n",
        "print(\"b: \"+str(b))\n",
        "print(\"a:\"+ str(a))\n",
        "print(\"Iteraciones: \" + str(contar))"
      ],
      "metadata": {
        "colab": {
          "base_uri": "https://localhost:8080/"
        },
        "id": "msMEkj_Eyq3w",
        "outputId": "1c697bbb-3aab-4e45-ab46-aec79a34dffa"
      },
      "execution_count": 4,
      "outputs": [
        {
          "output_type": "stream",
          "name": "stdout",
          "text": [
            "Inciso b)\n",
            "b: 0.2575302869081497\n",
            "a:0.2575302794575691\n",
            "Iteraciones: 27\n"
          ]
        }
      ]
    },
    {
      "cell_type": "markdown",
      "source": [
        "\n",
        "\n",
        "*   **c) $f(x)=2xcos(2x)-(x+1)^{2}$, para $-3 \\leq x \\leq -2$ y $-1 \\leq x \\leq 0$.**\n",
        "\n"
      ],
      "metadata": {
        "id": "XJHVTA4Nzo2r"
      }
    },
    {
      "cell_type": "code",
      "source": [
        "print(\"Inciso c)\")\n",
        "\n",
        "#Definimos dos puntos en x tales que f(a)*f(b)<0, para el primer intervalo\n",
        "a=-3.0\n",
        "\n",
        "b=-2.0\n",
        "#definimos la distancia entre los dos puntos en x\n",
        "c=abs(b-a)\n",
        "#definimos la tolerancia\n",
        "tolerancia=pow(10,-8)\n",
        "#Primero definimos la función a usar\n",
        "def f_3(x):\n",
        "\treturn 2*x*math.cos(2*x) - (x + 1)**2\n",
        "#Definomos un contador para contar las iteraciones\n",
        "contar=0\n",
        "#definimos en bucle while que realizara la iteraciones.\n",
        "while(c>tolerancia):\n",
        "\tm=a+(b-a)/2\n",
        "\tif(f_3(a)*f_3(m)<0):\n",
        "\t\tb=m\n",
        "\telse:\n",
        "\t\ta=m\n",
        "\tc=abs(b-a)\n",
        "\n",
        "\tcontar+=1\n",
        "print(\"Intervalo [-3,-2]\")\n",
        "print(\"b: \"+str(b))\n",
        "print(\"a: \"+ str(a))\n",
        "print(\"Iteraciones: \" + str(contar))\n",
        "#Definimos dos puntos en x tales que f(a)*f(b)<0, para el segundo intervalo\n",
        "a=-1.0\n",
        "\n",
        "b=0.0\n",
        "#definimos la distancia entre los dos puntos en x\n",
        "c=abs(b-a)\n",
        "#definimos la tolerancia\n",
        "tolerancia=pow(10,-8)\n",
        "#Definomos un contador para contar las iteraciones\n",
        "contar=0\n",
        "#definimos en bucle while que realizara la iteraciones.\n",
        "while(c>tolerancia):\n",
        "\tm=a+(b-a)/2\n",
        "\tif(f_3(a)*f_3(m)<0):\n",
        "\t\tb=m\n",
        "\telse:\n",
        "\t\ta=m\n",
        "\tc=abs(b-a)\n",
        "\n",
        "\tcontar+=1\n",
        "print(\"Intervalo [-1,0]\")\n",
        "print(\"b: \"+str(b))\n",
        "print(\"a: \"+ str(a))\n",
        "print(\"Iteraciones: \" + str(contar))"
      ],
      "metadata": {
        "colab": {
          "base_uri": "https://localhost:8080/"
        },
        "id": "LyBf9NnP0ILi",
        "outputId": "eac27c13-40ed-4b3f-c261-690d3a1eedcd"
      },
      "execution_count": 7,
      "outputs": [
        {
          "output_type": "stream",
          "name": "stdout",
          "text": [
            "Inciso c)\n",
            "Intervalo [-3,-2]\n",
            "b: -2.191308006644249\n",
            "a:-2.1913080140948296\n",
            "Iteraciones: 27\n",
            "Intervalo [-1,0]\n",
            "b: -0.7981599569320679\n",
            "a:-0.7981599643826485\n",
            "Iteraciones: 27\n"
          ]
        }
      ]
    },
    {
      "cell_type": "markdown",
      "source": [
        "\n",
        "\n",
        "*   **d) $f(x)=xcos(x)-2x^{2}+3x-1$, para $0.2 \\leq x \\leq 0.3$ y $1.2 \\leq x \\leq 1.3$**\n",
        "\n",
        "\n"
      ],
      "metadata": {
        "id": "1r8tByll1Frx"
      }
    },
    {
      "cell_type": "code",
      "source": [
        "print(\"Inciso d)\")\n",
        "\n",
        "#Definimos dos puntos en x tales que f(a)*f(b)<0, para el primer intervalo\n",
        "a=0.2\n",
        "\n",
        "b=0.3\n",
        "#definimos la distancia entre los dos puntos en x\n",
        "c=abs(b-a)\n",
        "#definimos la tolerancia\n",
        "tolerancia=pow(10,-8)\n",
        "#Primero definimos la función a usar\n",
        "def f_4(x):\n",
        "\treturn x*math.cos(x) - 2*(x**2)+3*x-1\n",
        "#Definomos un contador para contar las iteraciones\n",
        "contar=0\n",
        "#definimos en bucle while que realizara la iteraciones.\n",
        "while(c>tolerancia):\n",
        "\tm=a+(b-a)/2\n",
        "\tif(f_4(a)*f_4(m)<0):\n",
        "\t\tb=m\n",
        "\telse:\n",
        "\t\ta=m\n",
        "\tc=abs(b-a)\n",
        "\n",
        "\tcontar+=1\n",
        "print(\"Intervalo [0.2,0.3]\")\n",
        "print(\"b: \"+str(b))\n",
        "print(\"a: \"+ str(a))\n",
        "print(\"Iteraciones: \" + str(contar))\n",
        "#Definimos dos puntos en x tales que f(a)*f(b)<0, para el segundo intervalo\n",
        "a=1.2\n",
        "\n",
        "b=1.3\n",
        "#definimos la distancia entre los dos puntos en x\n",
        "c=abs(b-a)\n",
        "#definimos la tolerancia\n",
        "tolerancia=pow(10,-8)\n",
        "#Definomos un contador para contar las iteraciones\n",
        "contar=0\n",
        "#definimos en bucle while que realizara la iteraciones.\n",
        "while(c>tolerancia):\n",
        "\tm=a+(b-a)/2\n",
        "\tif(f_4(a)*f_4(m)<0):\n",
        "\t\tb=m\n",
        "\telse:\n",
        "\t\ta=m\n",
        "\tc=abs(b-a)\n",
        "\n",
        "\tcontar+=1\n",
        "print(\"Intervalo [1.2,1.3]\")\n",
        "print(\"b: \"+str(b))\n",
        "print(\"a: \"+ str(a))\n",
        "print(\"Iteraciones: \" + str(contar))"
      ],
      "metadata": {
        "colab": {
          "base_uri": "https://localhost:8080/"
        },
        "id": "LJiwCdv61faz",
        "outputId": "8161792a-8e30-4920-8997-7707a6dd9e04"
      },
      "execution_count": 9,
      "outputs": [
        {
          "output_type": "stream",
          "name": "stdout",
          "text": [
            "Inciso d)\n",
            "Intervalo [0.2,0.3]\n",
            "b: 0.2975302338600159\n",
            "a: 0.2975302278995514\n",
            "Iteraciones: 24\n",
            "Intervalo [1.2,1.3]\n",
            "b: 1.2566233277320862\n",
            "a: 1.2566233217716216\n",
            "Iteraciones: 24\n"
          ]
        }
      ]
    }
  ]
}