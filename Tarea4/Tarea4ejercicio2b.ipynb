{
  "nbformat": 4,
  "nbformat_minor": 0,
  "metadata": {
    "colab": {
      "provenance": [],
      "authorship_tag": "ABX9TyNSqRNH3GnFllDWIRCrnVDr",
      "include_colab_link": true
    },
    "kernelspec": {
      "name": "python3",
      "display_name": "Python 3"
    },
    "language_info": {
      "name": "python"
    }
  },
  "cells": [
    {
      "cell_type": "markdown",
      "metadata": {
        "id": "view-in-github",
        "colab_type": "text"
      },
      "source": [
        "<a href=\"https://colab.research.google.com/github/lajmej/Analisis_Numerico/blob/main/Tarea4/Tarea4ejercicio2b.ipynb\" target=\"_parent\"><img src=\"https://colab.research.google.com/assets/colab-badge.svg\" alt=\"Open In Colab\"/></a>"
      ]
    },
    {
      "cell_type": "markdown",
      "source": [
        "# Ejercicio 2\n",
        "**Integrantes**\n",
        "\n",
        "*   De la Luz Cristobal\n",
        "*   Mejia Quinarez Luis Eduardo\n",
        "\n"
      ],
      "metadata": {
        "id": "rFq388HEvZ-y"
      }
    },
    {
      "cell_type": "markdown",
      "source": [
        "***Implementación con codigo visto en clase***"
      ],
      "metadata": {
        "id": "Da6e3-QorunT"
      }
    },
    {
      "cell_type": "markdown",
      "source": [
        "\n",
        "2.   **Usar el Método de Bisección (programado) para encontrar la solución de las siguiente funciones con una tolerancia de $10^{-5}$**\n",
        "\n"
      ],
      "metadata": {
        "id": "BjOIG4zSrv00"
      }
    },
    {
      "cell_type": "code",
      "source": [
        "def Biseccion(Tol,N,f,a,b):\n",
        "  #N es el numero de iteraciones\n",
        "  # Tol es la tolerancia\n",
        "  # f es la función a la cual se le quiere\n",
        "  # obtener las raíces\n",
        "  # a es el extremo izquierdo del intervalo\n",
        "  # b es el extremo derecho del intervalo\n",
        "\n",
        "  fa,fb=f(a),f(b)\n",
        "  if fa*fb>0.0:#Comprobamos que haya raizes en los intervalos\n",
        "    print(\"No tiene raíces en el intervalo\")\n",
        "\n",
        "  x0=0.0 #inicializamos la variable \"cero\"\n",
        "  Iter=0 #iniciamos iteracion\n",
        "  while Iter<=N: #bucle while\n",
        "    x1=(a+b)/2.0 #valor me dio del intervlo\n",
        "    fx1=f(x1)\n",
        "    if abs(fx1)<=Tol and abs(x1-x0)<=Tol: #buscamos continuidad\n",
        "      print(\"Tu raiz es \"+str(x1))\n",
        "      return x1 #regresamos x1\n",
        "\n",
        "    if fa*fx1<0:#biseccion\n",
        "      b=x1\n",
        "    if fx1*fb<0:#biseccion\n",
        "      a=x1\n",
        "\n",
        "    x0=x1#obtenemos nueva variable x0\n",
        "    Iter+=1#aumentamos iteraci´pn\n",
        "\n",
        "  else:\n",
        "    print(\"El valor aproximado de tu raiz es\"+str(x1))"
      ],
      "metadata": {
        "id": "jGkYd628sO0a"
      },
      "execution_count": 9,
      "outputs": []
    },
    {
      "cell_type": "markdown",
      "source": [
        "\n",
        "\n",
        "*   **a) $f(x)=x-2^{-x}$, para $0 \\leq x \\leq 1$**\n",
        "\n"
      ],
      "metadata": {
        "id": "Z26r7SIgr0tk"
      }
    },
    {
      "cell_type": "code",
      "source": [
        "\n",
        "f=lambda x: x-2**(-x)\n",
        "r=Biseccion(1E-5,100,f,0,1.)\n"
      ],
      "metadata": {
        "id": "wXPO-OM4sUD8",
        "outputId": "5939e072-c8e1-49b9-a5dd-727bdaa2ab33",
        "colab": {
          "base_uri": "https://localhost:8080/"
        }
      },
      "execution_count": 2,
      "outputs": [
        {
          "output_type": "stream",
          "name": "stdout",
          "text": [
            "Tu raiz es 0.6411819458007812\n"
          ]
        }
      ]
    },
    {
      "cell_type": "markdown",
      "source": [
        "\n",
        "\n",
        "*   **b) $f(x)=e^{x}-x^{2}+3x-2$, para $0 \\leq x \\leq 1$**\n",
        "\n"
      ],
      "metadata": {
        "id": "YLEuktY3s801"
      }
    },
    {
      "cell_type": "code",
      "source": [
        "import math\n",
        "f=lambda x: math.exp(x) - x**2 + 3*x -2\n",
        "r=Biseccion(1E-5,100,f,0,1.)"
      ],
      "metadata": {
        "id": "beXhfaAAtADM",
        "outputId": "5161a620-b59a-494a-c8c4-abe03c762d20",
        "colab": {
          "base_uri": "https://localhost:8080/"
        }
      },
      "execution_count": 3,
      "outputs": [
        {
          "output_type": "stream",
          "name": "stdout",
          "text": [
            "Tu raiz es 0.25753021240234375\n"
          ]
        }
      ]
    },
    {
      "cell_type": "markdown",
      "source": [
        "\n",
        "\n",
        "*   **c) $f(x)=2xcos(2x)-(x+1)^{2}$, para $-3 \\leq x \\leq -2$ y $-1 \\leq x \\leq 0$.**\n",
        "\n"
      ],
      "metadata": {
        "id": "p4Gac824teac"
      }
    },
    {
      "cell_type": "code",
      "source": [
        "f=lambda x: 2*x*math.cos(2*x) -(x+1)**2\n",
        "r=Biseccion(1E-5,100,f,-3,-2)\n",
        "r=Biseccion(1E-5,100,f,-1,0)"
      ],
      "metadata": {
        "id": "HGZ6Gaw4tgdP",
        "outputId": "2bd4cf97-2632-41c2-e3e5-33ed4e0d6dd6",
        "colab": {
          "base_uri": "https://localhost:8080/"
        }
      },
      "execution_count": 5,
      "outputs": [
        {
          "output_type": "stream",
          "name": "stdout",
          "text": [
            "Tu raiz es -2.1913070678710938\n",
            "Tu raiz es -0.7981605529785156\n"
          ]
        }
      ]
    },
    {
      "cell_type": "markdown",
      "source": [
        "\n",
        "\n",
        "*   **d) $f(x)=xcos(x)-2x^{2}+3x-1$, para $0.2 \\leq x \\leq 0.3$ y $1.2 \\leq x \\leq 1.3$**\n",
        "\n",
        "\n"
      ],
      "metadata": {
        "id": "iKQkIOGmuG7f"
      }
    },
    {
      "cell_type": "code",
      "source": [
        "f=lambda x: x*math.cos(x) - 2*(x**2) + 3*x -1\n",
        "r=Biseccion(1E-5,100,f,0.2,0.3)\n",
        "r=Biseccion(1E-5,100,f,1.2,1.3)"
      ],
      "metadata": {
        "id": "YIGNem82uIja",
        "outputId": "f6c8b31e-7b9a-45eb-ae19-564d434b582b",
        "colab": {
          "base_uri": "https://localhost:8080/"
        }
      },
      "execution_count": 8,
      "outputs": [
        {
          "output_type": "stream",
          "name": "stdout",
          "text": [
            "Tu raiz es 0.29752807617187504\n",
            "Tu raiz es 1.256622314453125\n"
          ]
        }
      ]
    }
  ]
}