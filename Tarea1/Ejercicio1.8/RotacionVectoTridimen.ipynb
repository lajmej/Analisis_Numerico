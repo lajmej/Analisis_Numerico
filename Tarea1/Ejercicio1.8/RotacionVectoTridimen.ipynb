{
  "nbformat": 4,
  "nbformat_minor": 0,
  "metadata": {
    "colab": {
      "provenance": [],
      "authorship_tag": "ABX9TyOrDog4+LJfy5+OL7ZkcorZ",
      "include_colab_link": true
    },
    "kernelspec": {
      "name": "python3",
      "display_name": "Python 3"
    },
    "language_info": {
      "name": "python"
    }
  },
  "cells": [
    {
      "cell_type": "markdown",
      "metadata": {
        "id": "view-in-github",
        "colab_type": "text"
      },
      "source": [
        "<a href=\"https://colab.research.google.com/github/lajmej/Analisis_Numerico/blob/main/Tarea1/Ejercicio1.8/RotacionVectoTridimen.ipynb\" target=\"_parent\"><img src=\"https://colab.research.google.com/assets/colab-badge.svg\" alt=\"Open In Colab\"/></a>"
      ]
    },
    {
      "cell_type": "markdown",
      "source": [
        "**Integrantes**\n",
        "\n",
        "*   De la Luz Siles Cristóbal.\n",
        "*   Mejia Quinarez Luis Eduardo."
      ],
      "metadata": {
        "id": "WXLoXYvVMJHe"
      }
    },
    {
      "cell_type": "markdown",
      "source": [
        "*   **Calcule la norma 1,        $ ||A||_{n}= \\underbrace{max}_{1 \\leq j \\leq n }  \\sum_{i=1}^{m} |a_{ij}|$**"
      ],
      "metadata": {
        "id": "kU2_GrsWMKDz"
      }
    },
    {
      "cell_type": "code",
      "source": [
        "#1.8 Rotacion de vector tridimensional\n",
        "from numpy import cross, eye, dot\n",
        "from scipy.linalg import expm, norm\n",
        "def M(axis, theta):\n",
        "    return expm(cross(eye(3), axis/norm(axis)*theta))\n",
        "v= [3,5,0]\n",
        "axis= [4,4,1]\n",
        "theta = 1.2\n",
        "M0 = M(axis, theta)\n",
        "print(dot(M0,v))\n"
      ],
      "metadata": {
        "id": "DGaZ7Y3UMO21"
      },
      "execution_count": null,
      "outputs": []
    }
  ]
}