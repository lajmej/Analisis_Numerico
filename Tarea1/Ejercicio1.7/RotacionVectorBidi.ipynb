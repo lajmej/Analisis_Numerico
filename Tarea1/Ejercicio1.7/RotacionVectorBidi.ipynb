{
  "nbformat": 4,
  "nbformat_minor": 0,
  "metadata": {
    "colab": {
      "provenance": [],
      "authorship_tag": "ABX9TyMrBpnrK3oIoElIp13OzphK",
      "include_colab_link": true
    },
    "kernelspec": {
      "name": "python3",
      "display_name": "Python 3"
    },
    "language_info": {
      "name": "python"
    }
  },
  "cells": [
    {
      "cell_type": "markdown",
      "metadata": {
        "id": "view-in-github",
        "colab_type": "text"
      },
      "source": [
        "<a href=\"https://colab.research.google.com/github/lajmej/Analisis_Numerico/blob/main/Tarea1/Ejercicio1.7/RotacionVectorBidi.ipynb\" target=\"_parent\"><img src=\"https://colab.research.google.com/assets/colab-badge.svg\" alt=\"Open In Colab\"/></a>"
      ]
    },
    {
      "cell_type": "markdown",
      "source": [
        "**Integrantes**\n",
        "\n",
        "*   De la Luz Siles Cristóbal.\n",
        "*   Mejia Quinarez Luis Eduardo."
      ],
      "metadata": {
        "id": "pixA3jBLLsS-"
      }
    },
    {
      "cell_type": "markdown",
      "source": [
        "*   **Crear un programa que aplique una rotación de un vectorbidimensional mediante una matriz de rotación.**\n"
      ],
      "metadata": {
        "id": "hUyg1VgMLtCi"
      }
    },
    {
      "cell_type": "code",
      "source": [
        "#1.7 Rotacion de vector bidim\n",
        "import math as m\n",
        "\n",
        "def rotar(coordenadas, angulo):\n",
        "  (x,y) = coordenadas\n",
        "  ang = angulo*m.pi/180\n",
        "  nuevox = x*m.cos(ang) - y*m.sin(ang)\n",
        "  nuevoy = x*m.sin(ang) + y*m.cos(ang)\n",
        "  return (nuevox, nuevoy)\n",
        "\n",
        "v1 = (2,0)#vector original v1\n",
        "v2 = (0,3)#vector original v2\n",
        "v3 = rotar(v1,90)#vector 1 rotado\n",
        "v4 = rotar(v2,90)#vector 2 rotado\n",
        "print(v3,v4)"
      ],
      "metadata": {
        "id": "zaDoTUKdLwCN"
      },
      "execution_count": null,
      "outputs": []
    }
  ]
}
