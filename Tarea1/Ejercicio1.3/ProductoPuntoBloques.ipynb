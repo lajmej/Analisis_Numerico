{
  "nbformat": 4,
  "nbformat_minor": 0,
  "metadata": {
    "colab": {
      "provenance": [],
      "authorship_tag": "ABX9TyPWbPnojrHFvhqV/a18pyQZ",
      "include_colab_link": true
    },
    "kernelspec": {
      "name": "python3",
      "display_name": "Python 3"
    },
    "language_info": {
      "name": "python"
    }
  },
  "cells": [
    {
      "cell_type": "markdown",
      "metadata": {
        "id": "view-in-github",
        "colab_type": "text"
      },
      "source": [
        "<a href=\"https://colab.research.google.com/github/lajmej/Analisis_Numerico/blob/main/Tarea1/Ejercicio1.3/MatrizTranspuesta.ipynb\" target=\"_parent\"><img src=\"https://colab.research.google.com/assets/colab-badge.svg\" alt=\"Open In Colab\"/></a>"
      ]
    },
    {
      "cell_type": "markdown",
      "source": [
        "**Integrantes**\n",
        "\n",
        "*   De la Luz Siles Cristóbal.\n",
        "*   Mejia Quinarez Luis Eduardo.\n"
      ],
      "metadata": {
        "id": "VOEJDo6HEukc"
      }
    },
    {
      "cell_type": "markdown",
      "source": [
        "*   **Programa el producto punto de dos vectores en $\\mathbb{R^{n}}$, por bloques. Note que para que esto tenga relevancia computacional, la n debe ser mayor que 50.**"
      ],
      "metadata": {
        "id": "uKXcLSkwEx2m"
      }
    },
    {
      "cell_type": "code",
      "source": [
        "#Ejercicio 1.3\n",
        "import numpy as np\n",
        "\n",
        "#Definir tipo de variable\n",
        "def producto_punto_por_bloques(v1, v2, tamano_bloque):\n",
        "    n = len(v1)\n",
        "    # Calcular el producto punto de los vectores completos\n",
        "    resultado = np.dot(v1, v2)\n",
        "\n",
        "    # Calcular el producto punto por bloques\n",
        "    for i in range(0, n, tamano_bloque):\n",
        "        bloque_v1 = v1[i:i+tamano_bloque]\n",
        "        bloque_v2 = v2[i:i+tamano_bloque]\n",
        "        resultado = np.dot(bloque_v1, bloque_v2)\n",
        "\n",
        "    return resultado\n",
        "\n",
        "# Crear dos vectores en R^n\n",
        "n = 100\n",
        "v1 = np.random.rand(n)\n",
        "v2 = np.random.rand(n)\n",
        "# Calcular el producto punto por bloques\n",
        "tamano_bloque = 50\n",
        "resultado = producto_punto_por_bloques(v1, v2, tamano_bloque)\n",
        "print(resultado)"
      ],
      "metadata": {
        "id": "FdIsQcZME1tk"
      },
      "execution_count": null,
      "outputs": []
    }
  ]
}
