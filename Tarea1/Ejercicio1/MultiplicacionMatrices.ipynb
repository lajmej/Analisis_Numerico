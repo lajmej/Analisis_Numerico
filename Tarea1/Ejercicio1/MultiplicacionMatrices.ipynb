{
  "nbformat": 4,
  "nbformat_minor": 0,
  "metadata": {
    "colab": {
      "provenance": [],
      "authorship_tag": "ABX9TyOyBN0WjhEcmLjk56+wfHRa",
      "include_colab_link": true
    },
    "kernelspec": {
      "name": "python3",
      "display_name": "Python 3"
    },
    "language_info": {
      "name": "python"
    }
  },
  "cells": [
    {
      "cell_type": "markdown",
      "metadata": {
        "id": "view-in-github",
        "colab_type": "text"
      },
      "source": [
        "<a href=\"https://colab.research.google.com/github/lajmej/Analisis_Numerico/blob/main/Tarea1/Ejercicio1/MultiplicacionMatrices.ipynb\" target=\"_parent\"><img src=\"https://colab.research.google.com/assets/colab-badge.svg\" alt=\"Open In Colab\"/></a>"
      ]
    },
    {
      "cell_type": "markdown",
      "source": [
        "**Integrantes**\n",
        "\n",
        "*   De la Luz Siles Cristóbal.\n",
        "*   Mejia Quinarez Luis Eduardo.\n",
        "\n"
      ],
      "metadata": {
        "id": "2zwlBVM6AyxH"
      }
    },
    {
      "cell_type": "markdown",
      "source": [
        " *   **Programe la multiplicación de matrices, recuerde que no necesariamente tienen por qué ser cuadradas, por lo que deberá validar que se pueda realizar la multiplicación.**"
      ],
      "metadata": {
        "id": "IFGzEn7f_eGE"
      }
    },
    {
      "cell_type": "code",
      "source": [
        "#Ejercicio 1.1\n",
        "import numpy as np\n",
        "# definir las matrices\n",
        "m1 =np.array([\n",
        "    [1, 2],\n",
        "    [3, 4]\n",
        "])\n",
        "m2 =  np.array([\n",
        "    [5, 6],\n",
        "    [7, 8]\n",
        "])\n",
        "\n",
        "#Definir la condición donde no es multiplicable ie\n",
        "#Las Matr deben ser compatibles para multiplicar si cumplen que el número de columnas de la matriz 1 es igual al numero de filas en la segunda Matr\n",
        "def multiplicar_matrices(matriz1, matriz2):\n",
        "    # Verificar si las matrices son multiplicables\n",
        "    if len(matriz1[0]) != len(matriz2):\n",
        "        return \"Tu matriz no es multiplicable\"\n",
        "\n",
        "    # Multiplicar las matrices usando np.dot\n",
        "    resultado = np.dot(matriz1, matriz2)\n",
        "    return resultado\n",
        "\n",
        "resultado = multiplicar_matrices(m1, m2)\n",
        "if isinstance(resultado, str):\n",
        "    print(resultado)\n",
        "else:\n",
        "    print(resultado)"
      ],
      "metadata": {
        "colab": {
          "base_uri": "https://localhost:8080/"
        },
        "id": "3MSpLYQF_kFG",
        "outputId": "a7c32174-2c2f-41a0-80f0-d7c7bf5f0409"
      },
      "execution_count": 1,
      "outputs": [
        {
          "output_type": "stream",
          "name": "stdout",
          "text": [
            "[[19 22]\n",
            " [43 50]]\n"
          ]
        }
      ]
    }
  ]
}