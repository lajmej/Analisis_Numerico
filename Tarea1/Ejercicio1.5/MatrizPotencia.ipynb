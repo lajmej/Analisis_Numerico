{
  "nbformat": 4,
  "nbformat_minor": 0,
  "metadata": {
    "colab": {
      "provenance": [],
      "authorship_tag": "ABX9TyNGJICTMQa+aQT9TMUgbx9Y",
      "include_colab_link": true
    },
    "kernelspec": {
      "name": "python3",
      "display_name": "Python 3"
    },
    "language_info": {
      "name": "python"
    }
  },
  "cells": [
    {
      "cell_type": "markdown",
      "metadata": {
        "id": "view-in-github",
        "colab_type": "text"
      },
      "source": [
        "<a href=\"https://colab.research.google.com/github/lajmej/Analisis_Numerico/blob/main/Tarea1/Ejercicio1.5/MatrizPotencia.ipynb\" target=\"_parent\"><img src=\"https://colab.research.google.com/assets/colab-badge.svg\" alt=\"Open In Colab\"/></a>"
      ]
    },
    {
      "cell_type": "markdown",
      "source": [
        "**Integrantes**\n",
        "\n",
        "*   De la Luz Siles Cristóbal.\n",
        "*   Mejia Quinarez Luis Eduardo."
      ],
      "metadata": {
        "id": "gb4kc2noKqH8"
      }
    },
    {
      "cell_type": "markdown",
      "source": [
        "*   **Haga un programa que realice la potencia de una matriz.**"
      ],
      "metadata": {
        "id": "3q8VUPM4KrJy"
      }
    },
    {
      "cell_type": "code",
      "source": [
        "#1. 5 Potencia de una matriz\n",
        "import numpy as np\n",
        "from numpy.linalg import matrix_power as mp\n",
        "\n",
        "# Crear un array (matriz)\n",
        "m = np.array([[3, 4], [4, 5]])\n",
        "\n",
        "# Usar  numpy.linalg.matrix_power() para crear la potencia de la matriz\n",
        "print(mp(m, 2))"
      ],
      "metadata": {
        "colab": {
          "base_uri": "https://localhost:8080/"
        },
        "id": "JvccjJ8_Ku-V",
        "outputId": "70c63a43-0536-480a-c1ac-c3b6fa637de6"
      },
      "execution_count": 1,
      "outputs": [
        {
          "output_type": "stream",
          "name": "stdout",
          "text": [
            "[[25 32]\n",
            " [32 41]]\n"
          ]
        }
      ]
    }
  ]
}