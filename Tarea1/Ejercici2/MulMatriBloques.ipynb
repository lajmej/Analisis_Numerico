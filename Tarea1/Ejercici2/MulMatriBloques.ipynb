{
  "nbformat": 4,
  "nbformat_minor": 0,
  "metadata": {
    "colab": {
      "provenance": [],
      "authorship_tag": "ABX9TyON/DKjNEEx+u78FPLXSk5S",
      "include_colab_link": true
    },
    "kernelspec": {
      "name": "python3",
      "display_name": "Python 3"
    },
    "language_info": {
      "name": "python"
    }
  },
  "cells": [
    {
      "cell_type": "markdown",
      "metadata": {
        "id": "view-in-github",
        "colab_type": "text"
      },
      "source": [
        "<a href=\"https://colab.research.google.com/github/lajmej/Analisis_Numerico/blob/main/Tarea1/Ejercici2/ProductoPuntoBloques.ipynb\" target=\"_parent\"><img src=\"https://colab.research.google.com/assets/colab-badge.svg\" alt=\"Open In Colab\"/></a>"
      ]
    },
    {
      "cell_type": "markdown",
      "source": [
        "**Integrantes**\n",
        "\n",
        "*   De la Luz Siles Cristóbal.\n",
        "*   Mejia Quinarez Luis Eduardo.\n"
      ],
      "metadata": {
        "id": "ODa78HgKCm7c"
      }
    },
    {
      "cell_type": "markdown",
      "source": [
        "*   **Programa el producto punto de dos vectores en $\\mathbb{R^{n}}$, por bloques. Note que para que esto tenga relevancia computacional, la n debe ser mayor que 50.**\n"
      ],
      "metadata": {
        "id": "Jk6E5l3PCg14"
      }
    },
    {
      "cell_type": "code",
      "source": [
        "#Ejercicio 1.2: Mult Matr por Bloques\n",
        "import numpy as np\n",
        "\n",
        "#Definir le forma de las variables\n",
        "def multiplicar_matrices_por_bloques(m1, m2, tamano_bloque):\n",
        "    filas_m1, columnas_m1 = m1.shape\n",
        "    filas_m2, columnas_m2 = m2.shape\n",
        "\n",
        "    # Verificar si las matrices son multiplicables\n",
        "    if columnas_m1 != filas_m2:\n",
        "        raise ValueError(\"Las matrices no son multiplicables\")\n",
        "\n",
        "    # Crear array de ceros con dimension de las matrices definidas arriba  para almacenar\n",
        "    #resultado de la multiplicacion de matriz\n",
        "    resultado = np.zeros((filas_m1, columnas_m2))\n",
        "\n",
        "    # Dividir las matrices en bloques y multiplicar\n",
        "    for i in range(0, filas_m1, tamano_bloque):\n",
        "        for j in range(0, columnas_m2, tamano_bloque):\n",
        "            for k in range(0, columnas_m1, tamano_bloque):\n",
        "                bloque_m1 = m1[i:i+tamano_bloque, k:k+tamano_bloque]\n",
        "                bloque_m2 = m2[k:k+tamano_bloque, j:j+tamano_bloque]\n",
        "                resultado[i:i+tamano_bloque, j:j+tamano_bloque] += np.dot(bloque_m1, bloque_m2)\n",
        "\n",
        "    return resultado\n",
        "\n",
        "# Generar matrices aleatorias\n",
        "m1 = np.random.randint(0, 10, (6, 4))\n",
        "m2 = np.random.randint(0, 10, (4, 6))\n",
        "\n",
        "resultado = multiplicar_matrices_por_bloques(m1, m2, 2)\n",
        "print(resultado)\n"
      ],
      "metadata": {
        "id": "I6Nc5EDBCoqw"
      },
      "execution_count": null,
      "outputs": []
    }
  ]
}
