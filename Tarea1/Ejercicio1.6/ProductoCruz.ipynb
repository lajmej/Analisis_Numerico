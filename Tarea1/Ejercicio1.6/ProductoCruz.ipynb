{
  "nbformat": 4,
  "nbformat_minor": 0,
  "metadata": {
    "colab": {
      "provenance": [],
      "authorship_tag": "ABX9TyO1EPHvPB9OoBOGC5252kLO",
      "include_colab_link": true
    },
    "kernelspec": {
      "name": "python3",
      "display_name": "Python 3"
    },
    "language_info": {
      "name": "python"
    }
  },
  "cells": [
    {
      "cell_type": "markdown",
      "metadata": {
        "id": "view-in-github",
        "colab_type": "text"
      },
      "source": [
        "<a href=\"https://colab.research.google.com/github/lajmej/Analisis_Numerico/blob/main/Tarea1/Ejercicio1.6/ProductoCruz.ipynb\" target=\"_parent\"><img src=\"https://colab.research.google.com/assets/colab-badge.svg\" alt=\"Open In Colab\"/></a>"
      ]
    },
    {
      "cell_type": "markdown",
      "source": [
        "**Integrantes**\n",
        "\n",
        "*   De la Luz Siles Cristóbal.\n",
        "*   Mejia Quinarez Luis Eduardo."
      ],
      "metadata": {
        "id": "-iaTBfH5LNBO"
      }
    },
    {
      "cell_type": "markdown",
      "source": [
        "*   **Desarrollar un programa que calcule el producto cruz entre dos vectores tridimensionales.**"
      ],
      "metadata": {
        "id": "T0Ei7fUqLQcH"
      }
    },
    {
      "cell_type": "code",
      "source": [
        "# 1.6 Producto cruz\n",
        "def producto_cruz(a, b):\n",
        "    producto_cruz = [a[1]*b[2] - a[2]*b[1],\n",
        "                     a[2]*b[0] - a[0]*b[2],\n",
        "                     a[0]*b[1] - a[1]*b[0]]\n",
        "    return producto_cruz\n",
        "\n",
        "# Definir los vectores\n",
        "a = [1, 2, 3]\n",
        "b = [4, 5, 6]\n",
        "\n",
        "# Calcular el producto punto\n",
        "print(producto_cruz(a, b))\n",
        "\n",
        "#o mas sencillo usando np.cross de numpy o de sympy matrix.cross"
      ],
      "metadata": {
        "id": "NJR3yiJbLVbR"
      },
      "execution_count": null,
      "outputs": []
    }
  ]
}