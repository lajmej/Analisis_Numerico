{
  "nbformat": 4,
  "nbformat_minor": 0,
  "metadata": {
    "colab": {
      "provenance": [],
      "authorship_tag": "ABX9TyMIipP9WBkpUFuvCWurzoXh",
      "include_colab_link": true
    },
    "kernelspec": {
      "name": "python3",
      "display_name": "Python 3"
    },
    "language_info": {
      "name": "python"
    }
  },
  "cells": [
    {
      "cell_type": "markdown",
      "metadata": {
        "id": "view-in-github",
        "colab_type": "text"
      },
      "source": [
        "<a href=\"https://colab.research.google.com/github/lajmej/Analisis_Numerico/blob/main/Tarea1/Ejercicio1.9/NormaInfinito.ipynb\" target=\"_parent\"><img src=\"https://colab.research.google.com/assets/colab-badge.svg\" alt=\"Open In Colab\"/></a>"
      ]
    },
    {
      "cell_type": "markdown",
      "source": [
        "**Integrantes**\n",
        "\n",
        "*   De la Luz Siles Cristóbal.\n",
        "*   Mejia Quinarez Luis Eduardo."
      ],
      "metadata": {
        "id": "9N37welAMhXY"
      }
    },
    {
      "cell_type": "markdown",
      "source": [
        "*   **Calcule la norma 1,        $ ||A||_{n}= \\underbrace{max}_{1 \\leq j \\leq n }  \\sum_{i=1}^{m} |a_{ij}|$**\n"
      ],
      "metadata": {
        "id": "axc0c4ekMiCI"
      }
    },
    {
      "cell_type": "code",
      "source": [
        "#1.9 Norma\n",
        "\n",
        "import numpy as np\n",
        "\n",
        "# Definir matriz\n",
        "mat = np.array([[ 1, 2, 3],\n",
        "               [4, 5, 6]])\n",
        "\n",
        "# Norma de matriz usando linalg\n",
        "mat_norm = np.linalg.norm(mat)\n",
        "\n",
        "print(mat_norm)"
      ],
      "metadata": {
        "id": "v6ZmMRbdMlH1"
      },
      "execution_count": null,
      "outputs": []
    }
  ]
}
