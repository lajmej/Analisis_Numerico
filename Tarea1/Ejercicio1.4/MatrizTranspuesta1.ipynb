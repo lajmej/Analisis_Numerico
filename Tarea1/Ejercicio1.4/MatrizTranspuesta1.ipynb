{
  "nbformat": 4,
  "nbformat_minor": 0,
  "metadata": {
    "colab": {
      "provenance": [],
      "authorship_tag": "ABX9TyOjZp65CSNPqERPeX22sXb/",
      "include_colab_link": true
    },
    "kernelspec": {
      "name": "python3",
      "display_name": "Python 3"
    },
    "language_info": {
      "name": "python"
    }
  },
  "cells": [
    {
      "cell_type": "markdown",
      "metadata": {
        "id": "view-in-github",
        "colab_type": "text"
      },
      "source": [
        "<a href=\"https://colab.research.google.com/github/lajmej/Analisis_Numerico/blob/main/Tarea1/Ejercicio1.4/PotenciaMatriz.ipynb\" target=\"_parent\"><img src=\"https://colab.research.google.com/assets/colab-badge.svg\" alt=\"Open In Colab\"/></a>"
      ]
    },
    {
      "cell_type": "markdown",
      "source": [
        "**Integrantes**\n",
        "\n",
        "*   De la Luz Siles Cristóbal.\n",
        "*   Mejia Quinarez Luis Eduardo."
      ],
      "metadata": {
        "id": "I4eCMqlBGfdg"
      }
    },
    {
      "cell_type": "markdown",
      "source": [
        "*   **Haga un programa que realice la potencia de una matriz.**"
      ],
      "metadata": {
        "id": "DnnWkmIMGT-d"
      }
    },
    {
      "cell_type": "code",
      "source": [
        "#1.4 Matriz Transpuesta\n",
        "def transponer_matriz(matriz):\n",
        "    # Obtener las dimensiones de la matriz\n",
        "    filas, columnas = len(matriz), len(matriz[0])\n",
        "\n",
        "    # Crear una matriz vacía para almacenar la transpuesta\n",
        "    matriz_transpuesta = [[0 for _ in range(filas)] for _ in range(columnas)]\n",
        "\n",
        "    # Calcular la transpuesta\n",
        "    for i in range(filas):\n",
        "        for j in range(columnas):\n",
        "            matriz_transpuesta[j][i] = matriz[i][j]\n",
        "\n",
        "    return matriz_transpuesta\n",
        "\n",
        "# Ejemplo de uso\n",
        "matriz = [\n",
        "    [1, 2, 3],\n",
        "    [4, 5, 6],\n",
        "    [7, 8, 9]\n",
        "]\n",
        "\n",
        "transpuesta = transponer_matriz(matriz)\n",
        "for fila in transpuesta:\n",
        "    print(fila)"
      ],
      "metadata": {
        "colab": {
          "base_uri": "https://localhost:8080/"
        },
        "id": "56ks_MzqGUjs",
        "outputId": "6d857772-434f-4da4-a2de-9c2a92e20f73"
      },
      "execution_count": 1,
      "outputs": [
        {
          "output_type": "stream",
          "name": "stdout",
          "text": [
            "[1, 4, 7]\n",
            "[2, 5, 8]\n",
            "[3, 6, 9]\n"
          ]
        }
      ]
    }
  ]
}
